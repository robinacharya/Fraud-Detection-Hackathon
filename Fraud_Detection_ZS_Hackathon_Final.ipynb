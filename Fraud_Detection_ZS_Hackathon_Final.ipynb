{
  "metadata": {
    "kernelspec": {
      "language": "python",
      "display_name": "Python 3",
      "name": "python3"
    },
    "language_info": {
      "name": "python",
      "version": "3.10.13",
      "mimetype": "text/x-python",
      "codemirror_mode": {
        "name": "ipython",
        "version": 3
      },
      "pygments_lexer": "ipython3",
      "nbconvert_exporter": "python",
      "file_extension": ".py"
    },
    "kaggle": {
      "accelerator": "none",
      "dataSources": [
        {
          "sourceId": 7874773,
          "sourceType": "datasetVersion",
          "datasetId": 4621076
        }
      ],
      "dockerImageVersionId": 30664,
      "isInternetEnabled": true,
      "language": "python",
      "sourceType": "notebook",
      "isGpuEnabled": false
    },
    "colab": {
      "name": "Fraud Detection - ZS Hackathon Final",
      "provenance": [],
      "include_colab_link": true
    }
  },
  "nbformat_minor": 0,
  "nbformat": 4,
  "cells": [
    {
      "cell_type": "markdown",
      "metadata": {
        "id": "view-in-github",
        "colab_type": "text"
      },
      "source": [
        "<a href=\"https://colab.research.google.com/github/robinacharya/Fraud-Detection-Hackathon/blob/main/Fraud_Detection_ZS_Hackathon_Final.ipynb\" target=\"_parent\"><img src=\"https://colab.research.google.com/assets/colab-badge.svg\" alt=\"Open In Colab\"/></a>"
      ]
    },
    {
      "source": [
        "\n",
        "# IMPORTANT: RUN THIS CELL IN ORDER TO IMPORT YOUR KAGGLE DATA SOURCES\n",
        "# TO THE CORRECT LOCATION (/kaggle/input) IN YOUR NOTEBOOK,\n",
        "# THEN FEEL FREE TO DELETE THIS CELL.\n",
        "# NOTE: THIS NOTEBOOK ENVIRONMENT DIFFERS FROM KAGGLE'S PYTHON\n",
        "# ENVIRONMENT SO THERE MAY BE MISSING LIBRARIES USED BY YOUR\n",
        "# NOTEBOOK.\n",
        "\n",
        "import os\n",
        "import sys\n",
        "from tempfile import NamedTemporaryFile\n",
        "from urllib.request import urlopen\n",
        "from urllib.parse import unquote, urlparse\n",
        "from urllib.error import HTTPError\n",
        "from zipfile import ZipFile\n",
        "import tarfile\n",
        "import shutil\n",
        "\n",
        "CHUNK_SIZE = 40960\n",
        "DATA_SOURCE_MAPPING = 'zs-hackathon-dataset-eda:https%3A%2F%2Fstorage.googleapis.com%2Fkaggle-data-sets%2F4621076%2F7874773%2Fbundle%2Farchive.zip%3FX-Goog-Algorithm%3DGOOG4-RSA-SHA256%26X-Goog-Credential%3Dgcp-kaggle-com%2540kaggle-161607.iam.gserviceaccount.com%252F20240713%252Fauto%252Fstorage%252Fgoog4_request%26X-Goog-Date%3D20240713T155327Z%26X-Goog-Expires%3D259200%26X-Goog-SignedHeaders%3Dhost%26X-Goog-Signature%3D8d1cca84c9e37392f25d195a7fc3f92ad54c12f3c84a6423228b0e01ce8e2e1f02e0e0fdc5538286624945f58802047c0c81ed9e9680c59fdcad9decde80bc934e641353d8d403f0801050fc025b22152303993ab3deb239986751032bf25ae812b26aafc74dce2f57f96ef738635dae189576c24663a6947ac66f7180dc37e17ed8b5625fbc647c4cbbefd9161290628f349d5ed9adf84979fb3adcb271d6c01fe3867019cbaa6fc51c7b01a7c36254d56b7d713f61dab146ab803a1a92b686a2aea5f4555256836442775adb4072efc3d604d50d9e5539bf80fd99d25fc3716c4ca072c828e40f30bc4fe93cd86fb914ffd91a5f97dcfbf8b6e43c863106c6'\n",
        "\n",
        "KAGGLE_INPUT_PATH='/kaggle/input'\n",
        "KAGGLE_WORKING_PATH='/kaggle/working'\n",
        "KAGGLE_SYMLINK='kaggle'\n",
        "\n",
        "!umount /kaggle/input/ 2> /dev/null\n",
        "shutil.rmtree('/kaggle/input', ignore_errors=True)\n",
        "os.makedirs(KAGGLE_INPUT_PATH, 0o777, exist_ok=True)\n",
        "os.makedirs(KAGGLE_WORKING_PATH, 0o777, exist_ok=True)\n",
        "\n",
        "try:\n",
        "  os.symlink(KAGGLE_INPUT_PATH, os.path.join(\"..\", 'input'), target_is_directory=True)\n",
        "except FileExistsError:\n",
        "  pass\n",
        "try:\n",
        "  os.symlink(KAGGLE_WORKING_PATH, os.path.join(\"..\", 'working'), target_is_directory=True)\n",
        "except FileExistsError:\n",
        "  pass\n",
        "\n",
        "for data_source_mapping in DATA_SOURCE_MAPPING.split(','):\n",
        "    directory, download_url_encoded = data_source_mapping.split(':')\n",
        "    download_url = unquote(download_url_encoded)\n",
        "    filename = urlparse(download_url).path\n",
        "    destination_path = os.path.join(KAGGLE_INPUT_PATH, directory)\n",
        "    try:\n",
        "        with urlopen(download_url) as fileres, NamedTemporaryFile() as tfile:\n",
        "            total_length = fileres.headers['content-length']\n",
        "            print(f'Downloading {directory}, {total_length} bytes compressed')\n",
        "            dl = 0\n",
        "            data = fileres.read(CHUNK_SIZE)\n",
        "            while len(data) > 0:\n",
        "                dl += len(data)\n",
        "                tfile.write(data)\n",
        "                done = int(50 * dl / int(total_length))\n",
        "                sys.stdout.write(f\"\\r[{'=' * done}{' ' * (50-done)}] {dl} bytes downloaded\")\n",
        "                sys.stdout.flush()\n",
        "                data = fileres.read(CHUNK_SIZE)\n",
        "            if filename.endswith('.zip'):\n",
        "              with ZipFile(tfile) as zfile:\n",
        "                zfile.extractall(destination_path)\n",
        "            else:\n",
        "              with tarfile.open(tfile.name) as tarfile:\n",
        "                tarfile.extractall(destination_path)\n",
        "            print(f'\\nDownloaded and uncompressed: {directory}')\n",
        "    except HTTPError as e:\n",
        "        print(f'Failed to load (likely expired) {download_url} to path {destination_path}')\n",
        "        continue\n",
        "    except OSError as e:\n",
        "        print(f'Failed to load {download_url} to path {destination_path}')\n",
        "        continue\n",
        "\n",
        "print('Data source import complete.')\n"
      ],
      "metadata": {
        "id": "CdGGk1amzLMS"
      },
      "cell_type": "code",
      "outputs": [],
      "execution_count": null
    },
    {
      "cell_type": "markdown",
      "source": [
        "# Table of Contents<a id=\"back-to-table-of-contents\"></a>\n",
        "\n",
        "1. [Introduction](#introduction)\n",
        "1. [Problem Description](#problem-description)\n",
        "1. [Import Libraries](#import-libraries)\n",
        "1. [Download Datasets](#download-dataset)\n",
        "1. [Data Read](#data-read)\n",
        "1. [EDA](#eda)\n",
        "1. [Feature Engineering](#feature-engineering)\n",
        "   - [Feature Creation](#feature-creation)   \n",
        "   - [Feature Selection](#feature-selection)\n",
        "   - [Null Imputation](#null-imputation)\n",
        "1. [Preparing to Modeling](#preparing-to-modeling)\n",
        "   - [Encoding Categorical Features](#encoding-categorical-features)\n",
        "   - [Creation of Training and Validation Sets](#creation-of-training-and-validaiton-sets)\n",
        "1. [Baseline models and test for all features](#baseline-models-and-test-for-all-features)\n",
        "   - [Logistic Regression](#baseline-logistic-regression)\n",
        "   - [Decision Tree Classifier](#baseline-decision-tree-classifier)\n",
        "   - [Random Forests Classifier](#baseline-random-forests-classifier)\n",
        "   - [XGB Classifier](#baseline-xgb-classifier)\n",
        "   - [LGBM Classifier](#baseline-lgbm-classifier)\n",
        "1. [Model with Hyperparameter Tuning](#models-with-hyperparameter-tuning)\n",
        "   - [Feature Importance](#feature-importance)\n",
        "1. [Final Model with Important Features](#final-models-with-important-features)\n",
        "   - [K-Fold Validation](#k-fold-validation)\n",
        "   - [Final Model Prediction](#final-model-prediction)\n",
        "1. [Conclusion](#conclusion)"
      ],
      "metadata": {
        "id": "l5-Ov_SnzLMe"
      }
    },
    {
      "cell_type": "markdown",
      "source": [
        "# Introduction <a id=\"introduction\"></a>\n",
        "[Back to Table of Contents](#back-to-table-of-contents)"
      ],
      "metadata": {
        "id": "T6-jGerKzLMi"
      }
    },
    {
      "cell_type": "markdown",
      "source": [
        "We are living in 21st century and things around us are swiftly evolving. Technological\n",
        "advancements have made our lives a lot easier in most aspects, especially the streamlining of\n",
        "the payments. Thanks to the banking services, which have been the easiest ever since. However,\n",
        "the increase in technology invites more fraudulent practices. With so many payments happening\n",
        "all around, it is hard to track and differentiate fraudulent transactions from the legitimate ones.\n",
        "This challenge intends to solve the same problem. The goal will be to create a solution that tracks\n",
        "these payments and identify the fraudulent transactions using the information provided."
      ],
      "metadata": {
        "id": "abFSo48zzLMk"
      }
    },
    {
      "cell_type": "markdown",
      "source": [
        "# Problem Description <a id=\"problem-description\"></a>\n",
        "[Back to Table of Contents](#back-to-table-of-contents)"
      ],
      "metadata": {
        "id": "OkrVinyhzLMl"
      }
    },
    {
      "cell_type": "markdown",
      "source": [
        "A college has introduced a smart system which can track all the transactions of each student.\n",
        "Transactions to each other, payments to college canteen and shops, withdrawal of cash from\n",
        "college ATM, etc. The payments can be made using online methods (net banking, cards, UPI) or\n",
        "offline (using Debit/Credit Card as POS centers). The idea behind tracking the student payments\n",
        "was to decrease the ambiguity of defaulters between the college students, making the transaction\n",
        "process smooth and safe for the students. As the system was built, a few students hacked into\n",
        "the system database and started misusing it for their own benefit. To tackle the problem, an\n",
        "existing software was brought which tracks the transactions and predicts the fraudulent ones\n",
        "which backtracks the student who performed the transaction (the hacker). This solution will make\n",
        "the solution more robust from these hackers. However, the solution was not entirely successful\n",
        "as it only flagged the transactions where the amount was more than ₹ 200,000.\n",
        "**The task is to create a model using the data provided, which takes in the student and transaction\n",
        "information and predicts whether the transaction is a legitimate transaction or a fraudulent\n",
        "transaction.**"
      ],
      "metadata": {
        "id": "CLEYlod0zLMn"
      }
    },
    {
      "cell_type": "markdown",
      "source": [
        "# Import Libraries <a id=\"import-libraries\"></a>\n",
        "[Back to Table of Contents](#back-to-table-of-contents)"
      ],
      "metadata": {
        "id": "oX_pH_ChzLMo"
      }
    },
    {
      "cell_type": "code",
      "source": [
        "\n",
        "import numpy as np\n",
        "import pandas as pd\n",
        "import matplotlib.pyplot as plt\n",
        "import seaborn as sns\n",
        "import gc\n",
        "import shap\n",
        "from imblearn.combine import SMOTEENN\n",
        "from sklearn.datasets import make_classification\n",
        "from sklearn.impute import SimpleImputer\n",
        "from sklearn.preprocessing import StandardScaler\n",
        "from sklearn.model_selection import GridSearchCV\n",
        "from sklearn.model_selection import train_test_split\n",
        "from sklearn.linear_model import LogisticRegression\n",
        "from sklearn.tree import DecisionTreeClassifier\n",
        "from sklearn.ensemble import RandomForestClassifier, GradientBoostingClassifier\n",
        "from sklearn.neighbors import KNeighborsClassifier\n",
        "import xgboost as xgb\n",
        "import lightgbm as lgb\n",
        "from sklearn.metrics import precision_score, recall_score, accuracy_score, roc_auc_score, precision_recall_curve, auc, f1_score, confusion_matrix, average_precision_score\n",
        "from datetime import datetime, timedelta\n",
        "import math\n",
        "from matplotlib_venn import venn2\n",
        "from sklearn.preprocessing import MinMaxScaler, StandardScaler\n",
        "from hyperopt import hp, fmin, tpe, Trials, STATUS_OK\n",
        "from hyperopt import space_eval\n",
        "from sklearn.naive_bayes import GaussianNB\n",
        "from sklearn.neural_network import MLPClassifier\n",
        "from xgboost import XGBClassifier\n",
        "from lightgbm import LGBMClassifier\n",
        "\n",
        "import warnings\n",
        "warnings.filterwarnings(\"ignore\")"
      ],
      "metadata": {
        "execution": {
          "iopub.status.busy": "2024-07-13T14:57:38.56487Z",
          "iopub.execute_input": "2024-07-13T14:57:38.565433Z",
          "iopub.status.idle": "2024-07-13T14:57:48.927166Z",
          "shell.execute_reply.started": "2024-07-13T14:57:38.565397Z",
          "shell.execute_reply": "2024-07-13T14:57:48.925813Z"
        },
        "trusted": true,
        "id": "Q3oui2MpzLMq"
      },
      "execution_count": null,
      "outputs": []
    },
    {
      "cell_type": "markdown",
      "source": [
        "# Download Datasets <a id=\"download-dataset\"></a>\n",
        "[Back to Table of Contents](#back-to-table-of-contents)"
      ],
      "metadata": {
        "id": "6NnlIux2zLMr"
      }
    },
    {
      "cell_type": "code",
      "source": [
        "import os\n",
        "for dirname, _, filenames in os.walk('/kaggle/input'):\n",
        "    for filename in filenames:\n",
        "        print(os.path.join(dirname, filename))"
      ],
      "metadata": {
        "execution": {
          "iopub.status.busy": "2024-07-13T14:57:48.930437Z",
          "iopub.execute_input": "2024-07-13T14:57:48.931373Z",
          "iopub.status.idle": "2024-07-13T14:57:48.940765Z",
          "shell.execute_reply.started": "2024-07-13T14:57:48.931326Z",
          "shell.execute_reply": "2024-07-13T14:57:48.939039Z"
        },
        "trusted": true,
        "id": "hCQuyFn8zLMs"
      },
      "execution_count": null,
      "outputs": []
    },
    {
      "cell_type": "markdown",
      "source": [
        "# Data Read <a id=\"data-read\"></a>\n",
        "[Back to Table of Contents](#back-to-table-of-contents)"
      ],
      "metadata": {
        "id": "D3RsrBVBzLMt"
      }
    },
    {
      "cell_type": "markdown",
      "source": [
        "**Reading all csv files**"
      ],
      "metadata": {
        "id": "Gp7rPKMMzLMu"
      }
    },
    {
      "cell_type": "code",
      "source": [
        "Transactions = pd.read_csv('/kaggle/input/zs-hackathon-dataset-eda/Transactions.csv')\n",
        "Students = pd.read_csv('/kaggle/input/zs-hackathon-dataset-eda/Students.csv')\n",
        "Receiver = pd.read_csv('/kaggle/input/zs-hackathon-dataset-eda/Receiver.csv')\n",
        "Sender = pd.read_csv('/kaggle/input/zs-hackathon-dataset-eda/Sender.csv')"
      ],
      "metadata": {
        "execution": {
          "iopub.status.busy": "2024-07-13T14:57:51.566221Z",
          "iopub.execute_input": "2024-07-13T14:57:51.566621Z",
          "iopub.status.idle": "2024-07-13T14:58:02.835075Z",
          "shell.execute_reply.started": "2024-07-13T14:57:51.566591Z",
          "shell.execute_reply": "2024-07-13T14:58:02.833959Z"
        },
        "trusted": true,
        "id": "Cc0v5e_bzLMu"
      },
      "execution_count": null,
      "outputs": []
    },
    {
      "cell_type": "markdown",
      "source": [
        "**Reading all excel files**"
      ],
      "metadata": {
        "id": "c1HJbYYpzLMv"
      }
    },
    {
      "cell_type": "code",
      "source": [
        "Processed_Hacker_Check = pd.read_excel('/kaggle/input/zs-hackathon-dataset-eda/Processed_Hacker_Check.xlsx')\n",
        "Unprocessed_Hacker_Check = pd.read_excel('/kaggle/input/zs-hackathon-dataset-eda/Unprocessed_Hacker_Check.xlsx')"
      ],
      "metadata": {
        "execution": {
          "iopub.status.busy": "2024-07-13T14:58:11.069571Z",
          "iopub.execute_input": "2024-07-13T14:58:11.069986Z",
          "iopub.status.idle": "2024-07-13T14:59:31.85524Z",
          "shell.execute_reply.started": "2024-07-13T14:58:11.069955Z",
          "shell.execute_reply": "2024-07-13T14:59:31.854015Z"
        },
        "trusted": true,
        "id": "oGcCbAHezLMv"
      },
      "execution_count": null,
      "outputs": []
    },
    {
      "cell_type": "code",
      "source": [
        "Sample_Submission = pd.read_csv('/kaggle/input/zs-hackathon-dataset-eda/Sample_Submission.csv')"
      ],
      "metadata": {
        "execution": {
          "iopub.status.busy": "2024-07-13T14:59:40.914877Z",
          "iopub.execute_input": "2024-07-13T14:59:40.9156Z",
          "iopub.status.idle": "2024-07-13T14:59:40.926974Z",
          "shell.execute_reply.started": "2024-07-13T14:59:40.915561Z",
          "shell.execute_reply": "2024-07-13T14:59:40.925533Z"
        },
        "trusted": true,
        "id": "ost_cTzYzLMw"
      },
      "execution_count": null,
      "outputs": []
    },
    {
      "cell_type": "markdown",
      "source": [
        "# EDA <a id=\"eda\"></a>\n",
        "[Back to Table of Contents](#back-to-table-of-contents)"
      ],
      "metadata": {
        "id": "6gNxUXRQzLMw"
      }
    },
    {
      "cell_type": "markdown",
      "source": [
        "**Transactions data profiling**"
      ],
      "metadata": {
        "id": "HqRkK6pFzLMx"
      }
    },
    {
      "cell_type": "code",
      "source": [
        "Transactions.head()"
      ],
      "metadata": {
        "execution": {
          "iopub.status.busy": "2024-07-13T14:59:43.316577Z",
          "iopub.execute_input": "2024-07-13T14:59:43.317043Z",
          "iopub.status.idle": "2024-07-13T14:59:43.389475Z",
          "shell.execute_reply.started": "2024-07-13T14:59:43.317006Z",
          "shell.execute_reply": "2024-07-13T14:59:43.388168Z"
        },
        "trusted": true,
        "id": "7Pis5seRzLMx"
      },
      "execution_count": null,
      "outputs": []
    },
    {
      "cell_type": "markdown",
      "source": [
        "**Transaction table contains all transaction with Sender,Receiver time and other details arround transaction**"
      ],
      "metadata": {
        "id": "5NI8gIYczLMx"
      }
    },
    {
      "cell_type": "code",
      "source": [
        "Transactions.shape"
      ],
      "metadata": {
        "execution": {
          "iopub.status.busy": "2024-07-13T14:59:46.969595Z",
          "iopub.execute_input": "2024-07-13T14:59:46.970057Z",
          "iopub.status.idle": "2024-07-13T14:59:46.979253Z",
          "shell.execute_reply.started": "2024-07-13T14:59:46.970023Z",
          "shell.execute_reply": "2024-07-13T14:59:46.977381Z"
        },
        "trusted": true,
        "id": "TuyA3cLczLMy"
      },
      "execution_count": null,
      "outputs": []
    },
    {
      "cell_type": "markdown",
      "source": [
        "# Lets explore each of the input data tables starting with transaction  **univerieate analysis**"
      ],
      "metadata": {
        "id": "heeqTKBzzLMy"
      }
    },
    {
      "cell_type": "code",
      "source": [
        "grouped_df = Transactions.groupby(['transactionType']).size()\n",
        "\n",
        "grouped_df.plot(kind='bar', stacked=False, color=plt.cm.tab20.colors)\n",
        "\n",
        "plt.xlabel('Transaction Type')\n",
        "plt.ylabel('Count')\n",
        "plt.title('Transaction Type Distribution')\n",
        "plt.legend(['Count'], title='Legend')\n",
        "\n",
        "plt.tight_layout()\n",
        "plt.show()"
      ],
      "metadata": {
        "execution": {
          "iopub.status.busy": "2024-07-13T14:59:48.220463Z",
          "iopub.execute_input": "2024-07-13T14:59:48.22091Z",
          "iopub.status.idle": "2024-07-13T14:59:48.699129Z",
          "shell.execute_reply.started": "2024-07-13T14:59:48.220873Z",
          "shell.execute_reply": "2024-07-13T14:59:48.697947Z"
        },
        "trusted": true,
        "id": "O80gPY1PzLMz"
      },
      "execution_count": null,
      "outputs": []
    },
    {
      "cell_type": "markdown",
      "source": [
        "**Insights from Transaction Type Distribution Chart:**\n",
        "* The bar chart reveals significant variability in transaction types.\n",
        "* \"Cash Outflow\" is notably predominant, indicating a high frequency of transactions.\n",
        "* Conversely, \"Debit to Account\" emerges as the least frequent transaction type.\n",
        "* \"Money Payment\" and \"Cash Inflow\" exhibit similar proportions, suggesting comparable frequencies.\n",
        "* \"Money Transfer\" falls between these two, indicating a frequency similar to both.\n",
        "* Overall, the visualization effectively showcases the distribution of transaction activities, emphasizing the varying prevalence of each type within the dataset."
      ],
      "metadata": {
        "id": "fu38pu4gzLMz"
      }
    },
    {
      "cell_type": "markdown",
      "source": [
        "# Let's do the same for transaction device"
      ],
      "metadata": {
        "id": "t6u2yUS0zLM0"
      }
    },
    {
      "cell_type": "code",
      "source": [
        "grouped_df = Transactions.groupby(['transaction_device']).size()\n",
        "\n",
        "plt.figure(figsize=(6, 6))\n",
        "plt.pie(grouped_df, labels=grouped_df.index, autopct='%1.1f%%', startangle=140, colors=plt.cm.tab20.colors)\n",
        "plt.title('Transaction Device Distribution')\n",
        "plt.axis('equal')\n",
        "\n",
        "plt.show()"
      ],
      "metadata": {
        "execution": {
          "iopub.status.busy": "2024-07-13T14:59:49.068809Z",
          "iopub.execute_input": "2024-07-13T14:59:49.06967Z",
          "iopub.status.idle": "2024-07-13T14:59:49.333701Z",
          "shell.execute_reply.started": "2024-07-13T14:59:49.069633Z",
          "shell.execute_reply": "2024-07-13T14:59:49.332556Z"
        },
        "trusted": true,
        "id": "fwntmQgjzLM0"
      },
      "execution_count": null,
      "outputs": []
    },
    {
      "cell_type": "markdown",
      "source": [
        "**Insights from Transaction Device Distribution Pie Chart:**\n",
        "\n",
        "* The pie chart illustrates uniform distribution among transaction devices.\n",
        "* ATM card, Net banking, Check, and UPI contribute equally to transaction activities."
      ],
      "metadata": {
        "id": "lge0BMlAzLM1"
      }
    },
    {
      "cell_type": "markdown",
      "source": [
        "*** How about the comments!**"
      ],
      "metadata": {
        "id": "GFvaASF-zLM2"
      }
    },
    {
      "cell_type": "code",
      "source": [
        "grouped_df = Transactions.groupby(['comments']).size()\n",
        "\n",
        "grouped_df.plot(kind='bar', stacked=False, color=plt.cm.tab20.colors)\n",
        "\n",
        "plt.xlabel('Comments')\n",
        "plt.ylabel('Count')\n",
        "plt.title('Comments Distribution')\n",
        "plt.legend(['Count'], title='Legend')\n",
        "\n",
        "plt.tight_layout()\n",
        "plt.show()"
      ],
      "metadata": {
        "execution": {
          "iopub.status.busy": "2024-07-13T14:59:49.863884Z",
          "iopub.execute_input": "2024-07-13T14:59:49.864319Z",
          "iopub.status.idle": "2024-07-13T14:59:50.468868Z",
          "shell.execute_reply.started": "2024-07-13T14:59:49.864285Z",
          "shell.execute_reply": "2024-07-13T14:59:50.467704Z"
        },
        "trusted": true,
        "id": "NvYDYZFXzLM3"
      },
      "execution_count": null,
      "outputs": []
    },
    {
      "cell_type": "markdown",
      "source": [
        "**Insights from Comments Bar Chart:**\n",
        "\n",
        "* Uniform distribution is evident among comments.\n",
        "* Each comment category exhibits equal frequency."
      ],
      "metadata": {
        "id": "S7ZKFtZgzLM4"
      }
    },
    {
      "cell_type": "code",
      "source": [
        "Students.head()"
      ],
      "metadata": {
        "execution": {
          "iopub.status.busy": "2024-07-13T14:59:50.47106Z",
          "iopub.execute_input": "2024-07-13T14:59:50.471552Z",
          "iopub.status.idle": "2024-07-13T14:59:50.486371Z",
          "shell.execute_reply.started": "2024-07-13T14:59:50.471508Z",
          "shell.execute_reply": "2024-07-13T14:59:50.485039Z"
        },
        "trusted": true,
        "id": "X40u0JcazLM4"
      },
      "execution_count": null,
      "outputs": []
    },
    {
      "cell_type": "code",
      "source": [
        "Students.shape"
      ],
      "metadata": {
        "execution": {
          "iopub.status.busy": "2024-07-13T14:59:50.618305Z",
          "iopub.execute_input": "2024-07-13T14:59:50.618738Z",
          "iopub.status.idle": "2024-07-13T14:59:50.626566Z",
          "shell.execute_reply.started": "2024-07-13T14:59:50.618702Z",
          "shell.execute_reply": "2024-07-13T14:59:50.625305Z"
        },
        "trusted": true,
        "id": "4WTzDg2izLM5"
      },
      "execution_count": null,
      "outputs": []
    },
    {
      "cell_type": "code",
      "source": [
        "Receiver.head()"
      ],
      "metadata": {
        "execution": {
          "iopub.status.busy": "2024-07-13T14:59:50.906812Z",
          "iopub.execute_input": "2024-07-13T14:59:50.907211Z",
          "iopub.status.idle": "2024-07-13T14:59:50.925693Z",
          "shell.execute_reply.started": "2024-07-13T14:59:50.907181Z",
          "shell.execute_reply": "2024-07-13T14:59:50.924096Z"
        },
        "trusted": true,
        "id": "6FQSX2mFzLM6"
      },
      "execution_count": null,
      "outputs": []
    },
    {
      "cell_type": "code",
      "source": [
        "Receiver.shape"
      ],
      "metadata": {
        "execution": {
          "iopub.status.busy": "2024-07-13T14:59:51.140808Z",
          "iopub.execute_input": "2024-07-13T14:59:51.141245Z",
          "iopub.status.idle": "2024-07-13T14:59:51.149716Z",
          "shell.execute_reply.started": "2024-07-13T14:59:51.14121Z",
          "shell.execute_reply": "2024-07-13T14:59:51.148245Z"
        },
        "trusted": true,
        "id": "AJE0jpxLzLM6"
      },
      "execution_count": null,
      "outputs": []
    },
    {
      "cell_type": "code",
      "source": [
        "Sender.head()"
      ],
      "metadata": {
        "execution": {
          "iopub.status.busy": "2024-07-13T14:59:51.32387Z",
          "iopub.execute_input": "2024-07-13T14:59:51.324331Z",
          "iopub.status.idle": "2024-07-13T14:59:51.339575Z",
          "shell.execute_reply.started": "2024-07-13T14:59:51.324294Z",
          "shell.execute_reply": "2024-07-13T14:59:51.338314Z"
        },
        "trusted": true,
        "id": "d5H0RLCRzLM7"
      },
      "execution_count": null,
      "outputs": []
    },
    {
      "cell_type": "code",
      "source": [
        "Sender.shape"
      ],
      "metadata": {
        "execution": {
          "iopub.status.busy": "2024-07-13T14:59:51.566587Z",
          "iopub.execute_input": "2024-07-13T14:59:51.567017Z",
          "iopub.status.idle": "2024-07-13T14:59:51.576744Z",
          "shell.execute_reply.started": "2024-07-13T14:59:51.566983Z",
          "shell.execute_reply": "2024-07-13T14:59:51.57481Z"
        },
        "trusted": true,
        "id": "7sOXsMBpzLM8"
      },
      "execution_count": null,
      "outputs": []
    },
    {
      "cell_type": "code",
      "source": [
        "Processed_Hacker_Check.head()"
      ],
      "metadata": {
        "execution": {
          "iopub.status.busy": "2024-07-13T14:59:51.855097Z",
          "iopub.execute_input": "2024-07-13T14:59:51.855539Z",
          "iopub.status.idle": "2024-07-13T14:59:51.8684Z",
          "shell.execute_reply.started": "2024-07-13T14:59:51.855504Z",
          "shell.execute_reply": "2024-07-13T14:59:51.86679Z"
        },
        "trusted": true,
        "id": "cuzrc8GDzLM8"
      },
      "execution_count": null,
      "outputs": []
    },
    {
      "cell_type": "code",
      "source": [
        "Processed_Hacker_Check.shape"
      ],
      "metadata": {
        "execution": {
          "iopub.status.busy": "2024-07-13T14:59:52.517663Z",
          "iopub.execute_input": "2024-07-13T14:59:52.518087Z",
          "iopub.status.idle": "2024-07-13T14:59:52.526113Z",
          "shell.execute_reply.started": "2024-07-13T14:59:52.518052Z",
          "shell.execute_reply": "2024-07-13T14:59:52.524876Z"
        },
        "trusted": true,
        "id": "JOehceLPzLM9"
      },
      "execution_count": null,
      "outputs": []
    },
    {
      "cell_type": "markdown",
      "source": [
        "# Let start Merging all the data into one and **explore other relationships**"
      ],
      "metadata": {
        "id": "_EW2Hg7mzLM-"
      }
    },
    {
      "cell_type": "markdown",
      "source": [
        "**Here, we're getting a list of unique Transaction IDs (TID) from the Transactions table, and also unique identifiers from the Sender and Receiver tables. This helps us gather all the different transactions and people involved in the system, making it easier to keep track of who's doing what.**"
      ],
      "metadata": {
        "id": "RoXibWs4zLNK"
      }
    },
    {
      "cell_type": "code",
      "source": [
        "Transactions_ID=set(Transactions['TID'])\n",
        "Sender_ID=set(Sender['TID'])\n",
        "Receiver_ID=set(Receiver['TID'])"
      ],
      "metadata": {
        "execution": {
          "iopub.status.busy": "2024-07-13T14:59:53.572087Z",
          "iopub.execute_input": "2024-07-13T14:59:53.572476Z",
          "iopub.status.idle": "2024-07-13T14:59:54.943337Z",
          "shell.execute_reply.started": "2024-07-13T14:59:53.572447Z",
          "shell.execute_reply": "2024-07-13T14:59:54.94198Z"
        },
        "trusted": true,
        "id": "MEYdfEqIzLNK"
      },
      "execution_count": null,
      "outputs": []
    },
    {
      "cell_type": "markdown",
      "source": [
        "**Here, we're combining all Transaction IDs (TIDs) to create a comprehensive dataset. This allows us to conduct Exploratory Data Analysis (EDA) and extract valuable insights from the data. By doing this, we can enhance our feature engineering process, making it more efficient and effective.**"
      ],
      "metadata": {
        "id": "VNx9TyHFzLNK"
      }
    },
    {
      "cell_type": "code",
      "source": [
        "All_Given_IDs=Transactions_ID.union(Sender_ID).union(Receiver_ID)"
      ],
      "metadata": {
        "execution": {
          "iopub.status.busy": "2024-07-13T14:59:54.94586Z",
          "iopub.execute_input": "2024-07-13T14:59:54.946271Z",
          "iopub.status.idle": "2024-07-13T14:59:55.829711Z",
          "shell.execute_reply.started": "2024-07-13T14:59:54.946237Z",
          "shell.execute_reply": "2024-07-13T14:59:55.828414Z"
        },
        "trusted": true,
        "id": "4EyDJTMtzLNL"
      },
      "execution_count": null,
      "outputs": []
    },
    {
      "cell_type": "markdown",
      "source": [
        "**Here, we're making a new column that includes all Transaction IDs (TIDs) found in the Transaction, Sender, and Receiver tables.**"
      ],
      "metadata": {
        "id": "CO3WhYJ-zLNL"
      }
    },
    {
      "cell_type": "code",
      "source": [
        "df = pd.DataFrame(All_Given_IDs, columns=['All_IDs'])"
      ],
      "metadata": {
        "execution": {
          "iopub.status.busy": "2024-07-13T14:59:55.831176Z",
          "iopub.execute_input": "2024-07-13T14:59:55.831543Z",
          "iopub.status.idle": "2024-07-13T14:59:57.180983Z",
          "shell.execute_reply.started": "2024-07-13T14:59:55.831504Z",
          "shell.execute_reply": "2024-07-13T14:59:57.179694Z"
        },
        "trusted": true,
        "id": "ysvMn_IuzLNL"
      },
      "execution_count": null,
      "outputs": []
    },
    {
      "cell_type": "markdown",
      "source": [
        "**Here, we're building a comprehensive dataframe containing all Transaction IDs (TIDs), and then connecting it with the transactions data using a left join.**"
      ],
      "metadata": {
        "id": "DpXX5kkRzLNM"
      }
    },
    {
      "cell_type": "code",
      "source": [
        "master_df=df.merge(Transactions,left_on=\"All_IDs\",right_on=\"TID\",how=\"left\")\n",
        "master_df.head()"
      ],
      "metadata": {
        "execution": {
          "iopub.status.busy": "2024-07-13T14:59:57.183407Z",
          "iopub.execute_input": "2024-07-13T14:59:57.183822Z",
          "iopub.status.idle": "2024-07-13T14:59:59.043899Z",
          "shell.execute_reply.started": "2024-07-13T14:59:57.18379Z",
          "shell.execute_reply": "2024-07-13T14:59:59.042484Z"
        },
        "trusted": true,
        "id": "nqLgxlFIzLNM"
      },
      "execution_count": null,
      "outputs": []
    },
    {
      "cell_type": "markdown",
      "source": [
        "**Now, we're putting together all the tables with our main dataframe, so that we have everything combined into one single table.**"
      ],
      "metadata": {
        "id": "Up8mmCzmzLNM"
      }
    },
    {
      "cell_type": "code",
      "source": [
        "master_df=master_df.merge(Sender.add_suffix('_send'),left_on=\"All_IDs\",right_on=\"TID_send\",how=\"left\")\n",
        "master_df=master_df.merge(Receiver.add_suffix('_recieve'),left_on=\"All_IDs\",right_on=\"TID_recieve\",how=\"left\")\n",
        "master_df=master_df.merge(Students.add_suffix('_orig'),left_on=\"IdOfOrigStudent\",right_on=\"StudentId_orig\",how=\"left\")\n",
        "master_df=master_df.merge(Students.add_suffix('_dest'),left_on=\"IdOfDestStudent\",right_on=\"StudentId_dest\",how=\"left\")"
      ],
      "metadata": {
        "execution": {
          "iopub.status.busy": "2024-07-13T14:59:59.045167Z",
          "iopub.execute_input": "2024-07-13T14:59:59.045502Z",
          "iopub.status.idle": "2024-07-13T15:00:09.335396Z",
          "shell.execute_reply.started": "2024-07-13T14:59:59.04546Z",
          "shell.execute_reply": "2024-07-13T15:00:09.334241Z"
        },
        "trusted": true,
        "id": "BUEY5Hg3zLNN"
      },
      "execution_count": null,
      "outputs": []
    },
    {
      "cell_type": "code",
      "source": [
        "master_df.head()"
      ],
      "metadata": {
        "execution": {
          "iopub.status.busy": "2024-07-13T15:00:09.336999Z",
          "iopub.execute_input": "2024-07-13T15:00:09.337408Z",
          "iopub.status.idle": "2024-07-13T15:00:09.372359Z",
          "shell.execute_reply.started": "2024-07-13T15:00:09.337374Z",
          "shell.execute_reply": "2024-07-13T15:00:09.370974Z"
        },
        "trusted": true,
        "id": "BTdidvJkzLNN"
      },
      "execution_count": null,
      "outputs": []
    },
    {
      "cell_type": "code",
      "source": [
        "Processed_df=master_df.merge(Processed_Hacker_Check,left_on=\"All_IDs\",right_on=\"TID\",how=\"inner\")\n",
        "Unprocessed_df=master_df.merge(Unprocessed_Hacker_Check,left_on=\"All_IDs\",right_on=\"TID\",how=\"inner\")"
      ],
      "metadata": {
        "execution": {
          "iopub.status.busy": "2024-07-13T15:00:09.374179Z",
          "iopub.execute_input": "2024-07-13T15:00:09.374647Z",
          "iopub.status.idle": "2024-07-13T15:00:11.031235Z",
          "shell.execute_reply.started": "2024-07-13T15:00:09.374606Z",
          "shell.execute_reply": "2024-07-13T15:00:11.029706Z"
        },
        "trusted": true,
        "id": "VDe3ndmKzLNO"
      },
      "execution_count": null,
      "outputs": []
    },
    {
      "cell_type": "code",
      "source": [
        "processed_master_df = pd.concat([Processed_df, Unprocessed_df], ignore_index=True)\n",
        "processed_master_df.drop(['TID_x','TID_y',\"TID_send\",\"TID_recieve\"],axis=1,inplace=True)"
      ],
      "metadata": {
        "execution": {
          "iopub.status.busy": "2024-07-13T15:00:11.032789Z",
          "iopub.execute_input": "2024-07-13T15:00:11.033214Z",
          "iopub.status.idle": "2024-07-13T15:00:11.813178Z",
          "shell.execute_reply.started": "2024-07-13T15:00:11.033177Z",
          "shell.execute_reply": "2024-07-13T15:00:11.811705Z"
        },
        "trusted": true,
        "id": "0s7U97Z4zLNP"
      },
      "execution_count": null,
      "outputs": []
    },
    {
      "cell_type": "markdown",
      "source": [
        "**Exciting news! We've successfully computed our master dataframe, which now includes data from all relevant tables.**"
      ],
      "metadata": {
        "id": "NyDLZM6DzLNQ"
      }
    },
    {
      "cell_type": "markdown",
      "source": [
        "# *Quality Check Alert !!*"
      ],
      "metadata": {
        "id": "JH4No_6jzLNR"
      }
    },
    {
      "cell_type": "markdown",
      "source": [
        "**We're performing a quality check to verify the number of rows in three dataframes: Processed_df, Unprocessed_df, and processed_master_df.**"
      ],
      "metadata": {
        "id": "Sx2NuT6SzLNR"
      }
    },
    {
      "cell_type": "code",
      "source": [
        "print(Processed_df.shape)\n",
        "print(Unprocessed_df.shape)\n",
        "print(processed_master_df.shape)"
      ],
      "metadata": {
        "execution": {
          "iopub.status.busy": "2024-07-13T15:00:11.819581Z",
          "iopub.execute_input": "2024-07-13T15:00:11.820085Z",
          "iopub.status.idle": "2024-07-13T15:00:11.827931Z",
          "shell.execute_reply.started": "2024-07-13T15:00:11.820047Z",
          "shell.execute_reply": "2024-07-13T15:00:11.826509Z"
        },
        "trusted": true,
        "id": "Pd_b8btdzLNS"
      },
      "execution_count": null,
      "outputs": []
    },
    {
      "cell_type": "code",
      "source": [
        "processed_master_df.isHacker.value_counts()"
      ],
      "metadata": {
        "execution": {
          "iopub.status.busy": "2024-07-13T15:00:11.829899Z",
          "iopub.execute_input": "2024-07-13T15:00:11.830375Z",
          "iopub.status.idle": "2024-07-13T15:00:11.850622Z",
          "shell.execute_reply.started": "2024-07-13T15:00:11.830328Z",
          "shell.execute_reply": "2024-07-13T15:00:11.849429Z"
        },
        "trusted": true,
        "id": "-xePotRTzLNS"
      },
      "execution_count": null,
      "outputs": []
    },
    {
      "cell_type": "markdown",
      "source": [
        "**We found that in our processed_master_df we have 3554 hackers**"
      ],
      "metadata": {
        "id": "WC9bvDhezLNT"
      }
    },
    {
      "cell_type": "code",
      "source": [
        "processed_master_df.head()"
      ],
      "metadata": {
        "execution": {
          "iopub.status.busy": "2024-07-13T15:00:11.852414Z",
          "iopub.execute_input": "2024-07-13T15:00:11.852962Z",
          "iopub.status.idle": "2024-07-13T15:00:11.889943Z",
          "shell.execute_reply.started": "2024-07-13T15:00:11.852852Z",
          "shell.execute_reply": "2024-07-13T15:00:11.888616Z"
        },
        "trusted": true,
        "id": "ZOuyStZazLNT"
      },
      "execution_count": null,
      "outputs": []
    },
    {
      "cell_type": "markdown",
      "source": [
        "# **Preparing Fraud Master DataFrame for Insight Analysis:**\n",
        "\n",
        "* Creating a fraud master dataframe to analyze fraudulent transactions.\n",
        "* Aim to understand the types of transactions targeted by hackers.\n",
        "* This analysis will facilitate more efficient and effective feature engineering.\n",
        "* Identifying patterns and characteristics associated with fraudulent activities.\n",
        "* Insights gained will help enhance fraud detection and prevention strategies."
      ],
      "metadata": {
        "id": "IQPvYNAhzLNU"
      }
    },
    {
      "cell_type": "code",
      "source": [
        "fraud_master_df = processed_master_df[processed_master_df['isHacker']==1]"
      ],
      "metadata": {
        "execution": {
          "iopub.status.busy": "2024-07-13T15:00:11.89152Z",
          "iopub.execute_input": "2024-07-13T15:00:11.892018Z",
          "iopub.status.idle": "2024-07-13T15:00:11.912213Z",
          "shell.execute_reply.started": "2024-07-13T15:00:11.891973Z",
          "shell.execute_reply": "2024-07-13T15:00:11.910109Z"
        },
        "trusted": true,
        "id": "JAgJbvyVzLNU"
      },
      "execution_count": null,
      "outputs": []
    },
    {
      "cell_type": "code",
      "source": [
        "fraud_master_df.head()"
      ],
      "metadata": {
        "execution": {
          "iopub.status.busy": "2024-07-13T15:00:11.915576Z",
          "iopub.execute_input": "2024-07-13T15:00:11.916123Z",
          "iopub.status.idle": "2024-07-13T15:00:11.951325Z",
          "shell.execute_reply.started": "2024-07-13T15:00:11.916067Z",
          "shell.execute_reply": "2024-07-13T15:00:11.94998Z"
        },
        "trusted": true,
        "id": "ceu7BrLSzLNV"
      },
      "execution_count": null,
      "outputs": []
    },
    {
      "cell_type": "markdown",
      "source": [
        "**Conducting a quality check to ensure that we've accurately captured all instances of hacker activity.**"
      ],
      "metadata": {
        "id": "JQPLXx-JzLNW"
      }
    },
    {
      "cell_type": "code",
      "source": [
        "fraud_master_df.shape"
      ],
      "metadata": {
        "execution": {
          "iopub.status.busy": "2024-07-13T15:00:11.953385Z",
          "iopub.execute_input": "2024-07-13T15:00:11.953984Z",
          "iopub.status.idle": "2024-07-13T15:00:11.96394Z",
          "shell.execute_reply.started": "2024-07-13T15:00:11.953942Z",
          "shell.execute_reply": "2024-07-13T15:00:11.962451Z"
        },
        "trusted": true,
        "id": "xV7zEP14zLNX"
      },
      "execution_count": null,
      "outputs": []
    },
    {
      "cell_type": "markdown",
      "source": [
        "**Next, we'll thoroughly examine the fraud_master_df to uncover insights regarding patterns in fraudulent transactions.**"
      ],
      "metadata": {
        "id": "xEWNFw4IzLNY"
      }
    },
    {
      "cell_type": "markdown",
      "source": [
        "**Here, we're exploring if we can glean any insights from the transaction types.**"
      ],
      "metadata": {
        "id": "2syFr-Z0zLNY"
      }
    },
    {
      "cell_type": "code",
      "source": [
        "grouped_df = fraud_master_df.groupby(['transactionType']).size()\n",
        "\n",
        "# Plotting the grouped bar plot\n",
        "grouped_df.plot(kind='bar', stacked=False, color='skyblue')\n",
        "\n",
        "# Adding labels, title, and legend\n",
        "plt.xlabel('Transaction Type')\n",
        "plt.ylabel('Count of Hackers')\n",
        "plt.title('Transaction Type Distribution')\n",
        "plt.legend(['Count of Hackers'], title='Legend')\n",
        "\n",
        "# Display the plot\n",
        "plt.tight_layout()\n",
        "plt.show()"
      ],
      "metadata": {
        "execution": {
          "iopub.status.busy": "2024-07-13T15:00:11.965478Z",
          "iopub.execute_input": "2024-07-13T15:00:11.965956Z",
          "iopub.status.idle": "2024-07-13T15:00:12.712202Z",
          "shell.execute_reply.started": "2024-07-13T15:00:11.965915Z",
          "shell.execute_reply": "2024-07-13T15:00:12.71091Z"
        },
        "trusted": true,
        "id": "e5lLbrDHzLNZ"
      },
      "execution_count": null,
      "outputs": []
    },
    {
      "cell_type": "markdown",
      "source": [
        "**Insights from Transaction Type Analysis:**\n",
        "\n",
        "**Fraudulent transactions are exclusively found in the \"Cash Outflow\" and \"Money Transfer\" transaction types.**\n",
        "* This discovery sheds light on potential indicators for identifying fraudulent activities.\n",
        "* Focusing on these transaction types can aid in pinpointing and mitigating fraudulent behavior more effectively."
      ],
      "metadata": {
        "id": "sdZ9ErwgzLNa"
      }
    },
    {
      "cell_type": "markdown",
      "source": [
        "**Now we're investigating the comments section to see if it holds any useful information or patterns that could provide insights.**"
      ],
      "metadata": {
        "id": "2jD-rNzPzLNb"
      }
    },
    {
      "cell_type": "code",
      "source": [
        "grouped_df = fraud_master_df.groupby(['comments']).size()\n",
        "\n",
        "# Creating the pie chart\n",
        "plt.figure(figsize=(6, 6))\n",
        "plt.pie(grouped_df, labels=grouped_df.index, autopct='%1.1f%%', startangle=140, colors=plt.cm.tab20.colors)\n",
        "plt.title('Comments Distribution')\n",
        "plt.axis('equal')  # Equal aspect ratio ensures that pie is drawn as a circle.\n",
        "\n",
        "# Display the pie chart\n",
        "plt.show()"
      ],
      "metadata": {
        "execution": {
          "iopub.status.busy": "2024-07-13T15:00:12.713678Z",
          "iopub.execute_input": "2024-07-13T15:00:12.714145Z",
          "iopub.status.idle": "2024-07-13T15:00:13.048838Z",
          "shell.execute_reply.started": "2024-07-13T15:00:12.714086Z",
          "shell.execute_reply": "2024-07-13T15:00:13.047358Z"
        },
        "trusted": true,
        "id": "dKBRB4L-zLNb"
      },
      "execution_count": null,
      "outputs": []
    },
    {
      "cell_type": "markdown",
      "source": [
        "**Insights from Comments Pie Chart:**\n",
        "\n",
        "* Uniform distribution is evident among comments.\n",
        "* Each comment category exhibits equal frequency."
      ],
      "metadata": {
        "id": "2ryEnp4fzLNc"
      }
    },
    {
      "cell_type": "markdown",
      "source": [
        "**Now, we're going to examine the transaction devices to see if we can discover any useful insights.**"
      ],
      "metadata": {
        "id": "WxBc2243zLNc"
      }
    },
    {
      "cell_type": "code",
      "source": [
        "grouped_df = fraud_master_df.groupby(['transaction_device']).size()\n",
        "\n",
        "# Plotting the grouped bar plot\n",
        "grouped_df.plot(kind='bar', stacked=False, color=plt.cm.tab20.colors)\n",
        "\n",
        "# Adding labels, title, and legend\n",
        "plt.xlabel('Transaction Device')\n",
        "plt.ylabel('Count of Hackers')\n",
        "plt.title('Transaction Device Distribution')\n",
        "plt.legend(['Count of Hackers'], title='Legend')\n",
        "\n",
        "# Display the plot\n",
        "plt.tight_layout()\n",
        "plt.show()"
      ],
      "metadata": {
        "execution": {
          "iopub.status.busy": "2024-07-13T15:00:13.050597Z",
          "iopub.execute_input": "2024-07-13T15:00:13.05107Z",
          "iopub.status.idle": "2024-07-13T15:00:13.349737Z",
          "shell.execute_reply.started": "2024-07-13T15:00:13.051027Z",
          "shell.execute_reply": "2024-07-13T15:00:13.348546Z"
        },
        "trusted": true,
        "id": "8X3TEBeDzLNd"
      },
      "execution_count": null,
      "outputs": []
    },
    {
      "cell_type": "markdown",
      "source": [
        "**Unfortunately, we didn't uncover any insights as all devices showed an equal contribution to fraudulent transactions.**"
      ],
      "metadata": {
        "id": "k_SD5vFDzLNd"
      }
    },
    {
      "cell_type": "code",
      "source": [
        "processed_master_df.head()"
      ],
      "metadata": {
        "execution": {
          "iopub.status.busy": "2024-07-13T15:00:13.351545Z",
          "iopub.execute_input": "2024-07-13T15:00:13.352586Z",
          "iopub.status.idle": "2024-07-13T15:00:13.38979Z",
          "shell.execute_reply.started": "2024-07-13T15:00:13.352541Z",
          "shell.execute_reply": "2024-07-13T15:00:13.388484Z"
        },
        "trusted": true,
        "id": "-fODqVrUzLNe"
      },
      "execution_count": null,
      "outputs": []
    },
    {
      "cell_type": "markdown",
      "source": [
        "**Next, we'll explore the relationship between the IdOfOrigStudent and IdOfDestStudent to see if we can uncover any insights about fraudulent transactions or hacker activity.**"
      ],
      "metadata": {
        "id": "dJHYZJ-xzLNe"
      }
    },
    {
      "cell_type": "markdown",
      "source": [
        "**1.) \"We observe that prefix to origin and destination student id contains some alphabets\" lets explore more**"
      ],
      "metadata": {
        "id": "SkMsbgrCzLNe"
      }
    },
    {
      "cell_type": "code",
      "source": [
        "sample_df = processed_master_df[['IdOfOrigStudent' , 'IdOfDestStudent' , 'isHacker']]\n",
        "sample_df['origin_alphabet'] = sample_df['IdOfOrigStudent'].str[0]\n",
        "sample_df['dest_alphabet'] = sample_df['IdOfDestStudent'].str[0]"
      ],
      "metadata": {
        "execution": {
          "iopub.status.busy": "2024-07-13T15:00:13.391829Z",
          "iopub.execute_input": "2024-07-13T15:00:13.392354Z",
          "iopub.status.idle": "2024-07-13T15:00:14.966325Z",
          "shell.execute_reply.started": "2024-07-13T15:00:13.392309Z",
          "shell.execute_reply": "2024-07-13T15:00:14.96497Z"
        },
        "trusted": true,
        "id": "GXLv17TyzLNf"
      },
      "execution_count": null,
      "outputs": []
    },
    {
      "cell_type": "code",
      "source": [
        "sample_df.groupby(['origin_alphabet' , 'dest_alphabet'])['isHacker'].agg({'count','sum'})"
      ],
      "metadata": {
        "execution": {
          "iopub.status.busy": "2024-07-13T15:00:14.967845Z",
          "iopub.execute_input": "2024-07-13T15:00:14.968346Z",
          "iopub.status.idle": "2024-07-13T15:00:15.33983Z",
          "shell.execute_reply.started": "2024-07-13T15:00:14.968299Z",
          "shell.execute_reply": "2024-07-13T15:00:15.338598Z"
        },
        "trusted": true,
        "id": "aqtcTju3zLNf"
      },
      "execution_count": null,
      "outputs": []
    },
    {
      "cell_type": "markdown",
      "source": [
        "**Indeed, we notice that there are only two types of transactions: C -> C (Children to Children) and C -> M (Children to Merchant). Interestingly, fraudulent transactions are exclusively of the C -> C type, indicating that Children-to-Children transactions are more susceptible to fraudulent activity.**"
      ],
      "metadata": {
        "id": "6pbEvzamzLNf"
      }
    },
    {
      "cell_type": "markdown",
      "source": [
        "Let's plot and examine the data to gain a clearer understanding.\n",
        "\n",
        "We'll plot the data to get a clearer view.\n",
        "\n",
        "Sure, let's visualize the data to gain a clearer understanding."
      ],
      "metadata": {
        "id": "LmvT2GRUzLNg"
      }
    },
    {
      "cell_type": "code",
      "source": [
        "import matplotlib.pyplot as plt\n",
        "\n",
        "grouped_data = sample_df.groupby(['origin_alphabet', 'dest_alphabet'])['isHacker'].agg(['count', 'sum']).reset_index()\n",
        "\n",
        "# # Plot the bar plot\n",
        "plt.figure(figsize=(6, 4))\n",
        "plt.bar(range(len(grouped_data)), grouped_data['count'], color='skyblue', label='Count of isHacker')\n",
        "plt.bar(range(len(grouped_data)), grouped_data['sum'], color='orange', label='Sum of isHacker')\n",
        "plt.xlabel('Combination Index')\n",
        "plt.ylabel('Count/Sum')\n",
        "plt.title('Count and Sum of isHacker by Origin and Destination Alphabet')\n",
        "plt.xticks(range(len(grouped_data)), grouped_data['origin_alphabet'] + ' - ' + grouped_data['dest_alphabet'], rotation=90)\n",
        "plt.legend()\n",
        "plt.tight_layout()\n",
        "plt.show()"
      ],
      "metadata": {
        "execution": {
          "iopub.status.busy": "2024-07-13T15:00:15.341346Z",
          "iopub.execute_input": "2024-07-13T15:00:15.34181Z",
          "iopub.status.idle": "2024-07-13T15:00:16.012859Z",
          "shell.execute_reply.started": "2024-07-13T15:00:15.341768Z",
          "shell.execute_reply": "2024-07-13T15:00:16.011533Z"
        },
        "trusted": true,
        "id": "Zq_AWuG3zLNg"
      },
      "execution_count": null,
      "outputs": []
    },
    {
      "cell_type": "markdown",
      "source": [
        "**It is Evident that Children-Children contains all the fraud transactions where as Children-Merchant contains non-fraud transaction**"
      ],
      "metadata": {
        "id": "zmlLDvt4zLNg"
      }
    },
    {
      "cell_type": "code",
      "source": [
        "import matplotlib.pyplot as plt\n",
        "\n",
        "grouped_data = sample_df.groupby(['origin_alphabet', 'dest_alphabet'])['isHacker'].sum().reset_index()\n",
        "\n",
        "plt.figure(figsize=(6, 4))\n",
        "plt.bar(range(len(grouped_data)), grouped_data['isHacker'], color='red')\n",
        "plt.xlabel('Combination Index')\n",
        "plt.ylabel('Count of Hacker Occurrences')\n",
        "plt.title('Count of Hacker Occurrences by Origin and Destination Alphabet')\n",
        "plt.xticks(range(len(grouped_data)), grouped_data['origin_alphabet'] + ' - ' + grouped_data['dest_alphabet'], rotation=90)\n",
        "plt.tight_layout()\n",
        "plt.show()\n"
      ],
      "metadata": {
        "execution": {
          "iopub.status.busy": "2024-07-13T15:00:16.014508Z",
          "iopub.execute_input": "2024-07-13T15:00:16.01499Z",
          "iopub.status.idle": "2024-07-13T15:00:16.614265Z",
          "shell.execute_reply.started": "2024-07-13T15:00:16.014939Z",
          "shell.execute_reply": "2024-07-13T15:00:16.61307Z"
        },
        "trusted": true,
        "id": "SWZQ26-qzLNh"
      },
      "execution_count": null,
      "outputs": []
    },
    {
      "cell_type": "markdown",
      "source": [],
      "metadata": {
        "id": "t8ulGp0JzLNh"
      }
    },
    {
      "cell_type": "markdown",
      "source": [
        "**2.) Let's investigate whether there's any relationship between transactions involving the IdOfOrigStudent and IdOfDestStudent. If we identify a relationship, we can consider creating a graph or network to visualize the connections between fraudulent transactions or potentially form communities within the data.**"
      ],
      "metadata": {
        "id": "hXT0n3oGzLNh"
      }
    },
    {
      "cell_type": "code",
      "source": [
        "Orig_ID = set(processed_master_df['IdOfOrigStudent'])\n",
        "Dest_ID = set(processed_master_df['IdOfDestStudent'])"
      ],
      "metadata": {
        "execution": {
          "iopub.status.busy": "2024-07-13T15:00:16.615879Z",
          "iopub.execute_input": "2024-07-13T15:00:16.616323Z",
          "iopub.status.idle": "2024-07-13T15:00:17.430217Z",
          "shell.execute_reply.started": "2024-07-13T15:00:16.616283Z",
          "shell.execute_reply": "2024-07-13T15:00:17.428768Z"
        },
        "trusted": true,
        "id": "WBYe9kjHzLNi"
      },
      "execution_count": null,
      "outputs": []
    },
    {
      "cell_type": "code",
      "source": [
        "import matplotlib.pyplot as plt\n",
        "from matplotlib_venn import venn2\n",
        "\n",
        "# Calculate the number of unique elements in each set\n",
        "orig_id = set(processed_master_df['IdOfOrigStudent'])\n",
        "dest_id = set(processed_master_df['IdOfDestStudent'])\n",
        "\n",
        "# Create the Venn diagram\n",
        "venn2([orig_id, dest_id], ('IdOfOrigStudent', 'IdOfDestStudent'))\n",
        "\n",
        "# Add title\n",
        "plt.title('Venn Diagram of IdOfOrigStudent and IdOfDestStudent')\n",
        "\n",
        "# Show the plot\n",
        "plt.show()\n"
      ],
      "metadata": {
        "execution": {
          "iopub.status.busy": "2024-07-13T15:00:17.435774Z",
          "iopub.execute_input": "2024-07-13T15:00:17.436417Z",
          "iopub.status.idle": "2024-07-13T15:00:18.654826Z",
          "shell.execute_reply.started": "2024-07-13T15:00:17.436371Z",
          "shell.execute_reply": "2024-07-13T15:00:18.653592Z"
        },
        "trusted": true,
        "id": "wbFR4xkmzLNi"
      },
      "execution_count": null,
      "outputs": []
    },
    {
      "cell_type": "markdown",
      "source": [
        "**Unfortunately, our analysis did not reveal any significant relationships or community structures between transactions involving the IdOfOrigStudent and IdOfDestStudent. Thus, this exploration did not yield any fruitful insights for our analysis.**"
      ],
      "metadata": {
        "id": "SFsJbTr2zLNj"
      }
    },
    {
      "cell_type": "markdown",
      "source": [
        "# Feature Engineering <a id=\"feature-engineering\"></a>\n",
        "[Back to Table of Contents](#back-to-table-of-contents)"
      ],
      "metadata": {
        "id": "oKiHsLzYzLNj"
      }
    },
    {
      "cell_type": "code",
      "source": [
        "processed_master_df.head()"
      ],
      "metadata": {
        "execution": {
          "iopub.status.busy": "2024-07-13T15:00:18.657545Z",
          "iopub.execute_input": "2024-07-13T15:00:18.659094Z",
          "iopub.status.idle": "2024-07-13T15:00:18.69414Z",
          "shell.execute_reply.started": "2024-07-13T15:00:18.659037Z",
          "shell.execute_reply": "2024-07-13T15:00:18.692877Z"
        },
        "trusted": true,
        "id": "dQy_1nDKzLNj"
      },
      "execution_count": null,
      "outputs": []
    },
    {
      "cell_type": "code",
      "source": [
        "processed_master_df.shape"
      ],
      "metadata": {
        "execution": {
          "iopub.status.busy": "2024-07-13T15:00:29.162712Z",
          "iopub.execute_input": "2024-07-13T15:00:29.163144Z",
          "iopub.status.idle": "2024-07-13T15:00:29.170622Z",
          "shell.execute_reply.started": "2024-07-13T15:00:29.163108Z",
          "shell.execute_reply": "2024-07-13T15:00:29.169254Z"
        },
        "trusted": true,
        "id": "ys0TLR5FzLNk"
      },
      "execution_count": null,
      "outputs": []
    },
    {
      "cell_type": "code",
      "source": [
        "processed_master_df.describe()"
      ],
      "metadata": {
        "execution": {
          "iopub.status.busy": "2024-07-13T15:00:29.462828Z",
          "iopub.execute_input": "2024-07-13T15:00:29.463265Z",
          "iopub.status.idle": "2024-07-13T15:00:30.745541Z",
          "shell.execute_reply.started": "2024-07-13T15:00:29.463232Z",
          "shell.execute_reply": "2024-07-13T15:00:30.744173Z"
        },
        "trusted": true,
        "id": "9XnPTzLPzLNk"
      },
      "execution_count": null,
      "outputs": []
    },
    {
      "cell_type": "markdown",
      "source": [
        "# Feature Creation <a id=\"feature-creation\"></a>\n",
        "[Back to Table of Contents](#back-to-table-of-contents)"
      ],
      "metadata": {
        "id": "kqdrwrlIzLNk"
      }
    },
    {
      "cell_type": "markdown",
      "source": [
        "# **Now, let's generate some useful features based on the insights gathered from our exploratory data analysis (EDA).**"
      ],
      "metadata": {
        "id": "G8-eCTK4zLNl"
      }
    },
    {
      "cell_type": "markdown",
      "source": [
        "Let's extract the first alphabet from the IdOfOrigStudent and IdOfDestStudent, as our analysis revealed a significant relationship between children-to-children (C-C) and children-to-merchant (C-M) transactions in fraudulent activities."
      ],
      "metadata": {
        "id": "YyUSZZ89zLNl"
      }
    },
    {
      "cell_type": "code",
      "source": [
        "processed_master_df['First_IdOfOrigStudent'] = processed_master_df['IdOfOrigStudent'].str[0]\n",
        "processed_master_df['First_IdOfDestStudent'] = processed_master_df['IdOfDestStudent'].str[0]"
      ],
      "metadata": {
        "execution": {
          "iopub.status.busy": "2024-07-13T15:00:30.747807Z",
          "iopub.execute_input": "2024-07-13T15:00:30.748282Z",
          "iopub.status.idle": "2024-07-13T15:00:32.249172Z",
          "shell.execute_reply.started": "2024-07-13T15:00:30.74824Z",
          "shell.execute_reply": "2024-07-13T15:00:32.247798Z"
        },
        "trusted": true,
        "id": "ZEmu1v6fzLNl"
      },
      "execution_count": null,
      "outputs": []
    },
    {
      "cell_type": "markdown",
      "source": [
        "Let's utilize the hourstep to extract various features such as 'date', 'week_number', 'month', 'day_of_month', 'day_of_week', 'hour_of_day', and 'part_of_day', categorized as {Morning, Afternoon, Evening, Night}."
      ],
      "metadata": {
        "id": "rbegRZtRzLNm"
      }
    },
    {
      "cell_type": "code",
      "source": [
        "start_date = datetime(2024, 1, 1)\n",
        "\n",
        "processed_master_df['hourStep'].fillna(processed_master_df['hourStep'].max()+999,inplace=True)\n",
        "\n",
        "processed_master_df['date'] = processed_master_df['hourStep'].apply(lambda x: start_date + timedelta(hours=x))\n",
        "processed_master_df['date'] = pd.to_datetime(processed_master_df['date'])\n",
        "\n",
        "processed_master_df['week_number'] = processed_master_df['date'].dt.isocalendar().week\n",
        "processed_master_df['month'] = processed_master_df['date'].dt.month\n",
        "processed_master_df['day_of_month'] = processed_master_df['date'].dt.day\n",
        "processed_master_df['day_of_week'] = processed_master_df['date'].dt.dayofweek\n",
        "processed_master_df['hour_of_day'] = processed_master_df['date'].dt.hour\n",
        "\n",
        "def get_part_of_day(hour):\n",
        "    if 5 <= hour < 12:\n",
        "        return 'Morning'\n",
        "    elif 12 <= hour < 17:\n",
        "        return 'Night'\n",
        "    elif 17 <= hour < 21:\n",
        "        return 'Evening'\n",
        "    else:\n",
        "        return 'Afternoon'\n",
        "\n",
        "processed_master_df['part_of_day'] = processed_master_df['hour_of_day'].apply(get_part_of_day)\n"
      ],
      "metadata": {
        "execution": {
          "iopub.status.busy": "2024-07-13T15:00:32.251364Z",
          "iopub.execute_input": "2024-07-13T15:00:32.251764Z",
          "iopub.status.idle": "2024-07-13T15:00:37.006791Z",
          "shell.execute_reply.started": "2024-07-13T15:00:32.25173Z",
          "shell.execute_reply": "2024-07-13T15:00:37.005584Z"
        },
        "trusted": true,
        "id": "HRCmmeLszLNm"
      },
      "execution_count": null,
      "outputs": []
    },
    {
      "cell_type": "code",
      "source": [
        "grouped_count = processed_master_df.groupby(['part_of_day'])['isHacker'].agg(['count', 'sum'])\n",
        "grouped_count"
      ],
      "metadata": {
        "execution": {
          "iopub.status.busy": "2024-07-13T15:00:37.008584Z",
          "iopub.execute_input": "2024-07-13T15:00:37.009582Z",
          "iopub.status.idle": "2024-07-13T15:00:37.138697Z",
          "shell.execute_reply.started": "2024-07-13T15:00:37.009537Z",
          "shell.execute_reply": "2024-07-13T15:00:37.137452Z"
        },
        "trusted": true,
        "id": "BARQDrNAzLNm"
      },
      "execution_count": null,
      "outputs": []
    },
    {
      "cell_type": "markdown",
      "source": [
        "**We can observe that the majority of our fraudulent transactions occur during the night, which aligns with our expectations.**"
      ],
      "metadata": {
        "id": "LQTh_WhBzLNn"
      }
    },
    {
      "cell_type": "markdown",
      "source": [
        "**Now, we're generating additional features based on the Old Balance and New Balance of both the Origin and Destination students.**"
      ],
      "metadata": {
        "id": "uVaH_4_CzLNo"
      }
    },
    {
      "cell_type": "code",
      "source": [
        "processed_master_df[\"old_send_new_send\"]=processed_master_df[\"oldBalanceOfOrigStudent_send\"]-processed_master_df[\"newBalanceOfOrigStudent_send\"]\n",
        "processed_master_df[\"old_rec_new_rec\"]=processed_master_df[\"oldBalanceOfDestStudent_recieve\"]-processed_master_df[\"newBalanceOfDestStudent_recieve\"]\n",
        "processed_master_df[\"old_rec_new_rec_amt_rec\"]=processed_master_df[\"old_rec_new_rec\"]-processed_master_df[\"transactionAmount_recieve\"]\n",
        "processed_master_df[\"old_send_new_send_amt_rec\"]=processed_master_df[\"old_send_new_send\"]-processed_master_df[\"transactionAmount_send\"]"
      ],
      "metadata": {
        "execution": {
          "iopub.status.busy": "2024-07-13T15:00:37.142082Z",
          "iopub.execute_input": "2024-07-13T15:00:37.142457Z",
          "iopub.status.idle": "2024-07-13T15:00:37.172349Z",
          "shell.execute_reply.started": "2024-07-13T15:00:37.142425Z",
          "shell.execute_reply": "2024-07-13T15:00:37.171027Z"
        },
        "trusted": true,
        "id": "OCVb-0JZzLNo"
      },
      "execution_count": null,
      "outputs": []
    },
    {
      "cell_type": "markdown",
      "source": [
        "**Converting hourstep into sine and cosine to get the cyclic nature of time**"
      ],
      "metadata": {
        "id": "PtLXoAxQzLNp"
      }
    },
    {
      "cell_type": "code",
      "source": [
        "processed_master_df['hourstep_radians'] = (processed_master_df['hourStep'] % 24) * (2 * np.pi / 24)\n",
        "processed_master_df['cosine'] = np.cos(processed_master_df['hourstep_radians'])\n",
        "processed_master_df['sine'] = np.sin(processed_master_df['hourstep_radians'])"
      ],
      "metadata": {
        "execution": {
          "iopub.status.busy": "2024-07-13T15:00:37.174109Z",
          "iopub.execute_input": "2024-07-13T15:00:37.174617Z",
          "iopub.status.idle": "2024-07-13T15:00:37.268656Z",
          "shell.execute_reply.started": "2024-07-13T15:00:37.174572Z",
          "shell.execute_reply": "2024-07-13T15:00:37.267551Z"
        },
        "trusted": true,
        "id": "AB4yRyzXzLNq"
      },
      "execution_count": null,
      "outputs": []
    },
    {
      "cell_type": "markdown",
      "source": [
        "# Hourly Transaction Tracking\n",
        "\n",
        "* Calculate the number of transactions before the current one for each 'IdOfOrigStudent' and 'IdOfDestStudent'\n",
        "* For transactions with isHacker = 1, we'll create a separate column and then use cumcount."
      ],
      "metadata": {
        "id": "B09VtIj6zLNq"
      }
    },
    {
      "cell_type": "code",
      "source": [
        "processed_master_df = processed_master_df.sort_values(by=['IdOfOrigStudent', 'hourStep'])\n",
        "\n",
        "# Calculate the number of transactions before the current one for each 'IdOfOrigStudent' and 'IdOfDestStudent'\n",
        "processed_master_df['num_transactions_IdOfOrigStudent'] = processed_master_df.groupby(['IdOfOrigStudent']).cumcount()\n",
        "\n",
        "# For transactions with isHacker = 1, we'll create a separate column and then use cumcount.\n",
        "processed_master_df['is_hacker_transaction_IdOfOrigStudent'] = processed_master_df['isHacker'] == 1\n",
        "processed_master_df['num_hacker_transactions_IdOfOrigStudent'] = processed_master_df.groupby(['IdOfOrigStudent'])['is_hacker_transaction_IdOfOrigStudent'].cumsum() - processed_master_df['is_hacker_transaction_IdOfOrigStudent']\n",
        "\n",
        "\n",
        "processed_master_df = processed_master_df.sort_values(by=['IdOfDestStudent', 'hourStep'])\n",
        "\n",
        "# Calculate the number of transactions before the current one for each 'IdOfOrigStudent' and 'IdOfDestStudent'\n",
        "processed_master_df['num_transactions_IdOfDestStudent'] = processed_master_df.groupby(['IdOfDestStudent']).cumcount()\n",
        "\n",
        "# For transactions with isHacker = 1, we'll create a separate column and then use cumcount.\n",
        "processed_master_df['is_hacker_transaction_IdOfDestStudent'] = processed_master_df['isHacker'] == 1\n",
        "processed_master_df['num_hacker_transactions_IdOfDestStudent'] = processed_master_df.groupby(['IdOfDestStudent'])['is_hacker_transaction_IdOfDestStudent'].cumsum() - processed_master_df['is_hacker_transaction_IdOfDestStudent']\n"
      ],
      "metadata": {
        "execution": {
          "iopub.status.busy": "2024-07-13T15:00:37.270396Z",
          "iopub.execute_input": "2024-07-13T15:00:37.270897Z",
          "iopub.status.idle": "2024-07-13T15:00:50.208366Z",
          "shell.execute_reply.started": "2024-07-13T15:00:37.270842Z",
          "shell.execute_reply": "2024-07-13T15:00:50.206987Z"
        },
        "trusted": true,
        "id": "S3UYLr0SzLNr"
      },
      "execution_count": null,
      "outputs": []
    },
    {
      "cell_type": "code",
      "source": [
        "processed_master_df.drop([\"is_hacker_transaction_IdOfOrigStudent\",'is_hacker_transaction_IdOfDestStudent'],axis=1,inplace=True)"
      ],
      "metadata": {
        "execution": {
          "iopub.status.busy": "2024-07-13T15:00:50.20985Z",
          "iopub.execute_input": "2024-07-13T15:00:50.210223Z",
          "iopub.status.idle": "2024-07-13T15:00:50.677613Z",
          "shell.execute_reply.started": "2024-07-13T15:00:50.21019Z",
          "shell.execute_reply": "2024-07-13T15:00:50.676158Z"
        },
        "trusted": true,
        "id": "4M_Q-pNRzLNs"
      },
      "execution_count": null,
      "outputs": []
    },
    {
      "cell_type": "markdown",
      "source": [
        "# Feature Selection <a id=\"feature-selection\"></a>\n",
        "[Back to Table of Contents](#back-to-table-of-contents)"
      ],
      "metadata": {
        "id": "7KjMgvI4zLNs"
      }
    },
    {
      "cell_type": "markdown",
      "source": [
        "Here we are eliminating the Column ID as it does not significantly contribute to the model's predictive capabilities, hence simplifying the dataset."
      ],
      "metadata": {
        "id": "5xWc93p0zLNt"
      }
    },
    {
      "cell_type": "code",
      "source": [
        "processed_master_df.columns"
      ],
      "metadata": {
        "execution": {
          "iopub.status.busy": "2024-07-13T15:00:50.679124Z",
          "iopub.execute_input": "2024-07-13T15:00:50.679467Z",
          "iopub.status.idle": "2024-07-13T15:00:50.688479Z",
          "shell.execute_reply.started": "2024-07-13T15:00:50.679438Z",
          "shell.execute_reply": "2024-07-13T15:00:50.686937Z"
        },
        "trusted": true,
        "id": "InuRQOO1zLNt"
      },
      "execution_count": null,
      "outputs": []
    },
    {
      "cell_type": "code",
      "source": [
        "columns_to_keep=['All_IDs','transactionType',\n",
        "       'hourStep', 'transaction_device', 'comments',\n",
        "       'oldBalanceOfOrigStudent_send', 'newBalanceOfOrigStudent_send',\n",
        "       'transactionAmount_send', 'oldBalanceOfDestStudent_recieve',\n",
        "       'newBalanceOfDestStudent_recieve', 'transactionAmount_recieve',\n",
        "       'StudentAge_orig',\n",
        "       'StudentYear_orig', 'TransactionFrequency_orig',\n",
        "       'NumberOfTransactionsTillDate_orig', 'AccountType_orig',\n",
        "       'StudentAge_dest',\n",
        "       'StudentYear_dest', 'TransactionFrequency_dest',\n",
        "       'NumberOfTransactionsTillDate_dest', 'AccountType_dest',\n",
        "       'isHacker', 'First_IdOfOrigStudent',\n",
        "       'First_IdOfDestStudent', 'week_number', 'month', 'day_of_month',\n",
        "       'day_of_week', 'hour_of_day', 'part_of_day', 'old_send_new_send',\n",
        "       'old_rec_new_rec', 'old_rec_new_rec_amt_rec',\n",
        "       'old_send_new_send_amt_rec', 'hourstep_radians', 'cosine', 'sine',\n",
        "       'num_transactions_IdOfOrigStudent',\n",
        "       'num_hacker_transactions_IdOfOrigStudent',\n",
        "       'num_transactions_IdOfDestStudent',\n",
        "       'num_hacker_transactions_IdOfDestStudent']"
      ],
      "metadata": {
        "execution": {
          "iopub.status.busy": "2024-07-13T15:00:50.690235Z",
          "iopub.execute_input": "2024-07-13T15:00:50.690643Z",
          "iopub.status.idle": "2024-07-13T15:00:50.699749Z",
          "shell.execute_reply.started": "2024-07-13T15:00:50.69061Z",
          "shell.execute_reply": "2024-07-13T15:00:50.698645Z"
        },
        "trusted": true,
        "id": "-iainXE2zLNt"
      },
      "execution_count": null,
      "outputs": []
    },
    {
      "cell_type": "code",
      "source": [
        "df=processed_master_df[columns_to_keep]"
      ],
      "metadata": {
        "execution": {
          "iopub.status.busy": "2024-07-13T15:00:50.704622Z",
          "iopub.execute_input": "2024-07-13T15:00:50.705624Z",
          "iopub.status.idle": "2024-07-13T15:00:50.935814Z",
          "shell.execute_reply.started": "2024-07-13T15:00:50.705585Z",
          "shell.execute_reply": "2024-07-13T15:00:50.934383Z"
        },
        "trusted": true,
        "id": "ju6DQK26zLNu"
      },
      "execution_count": null,
      "outputs": []
    },
    {
      "cell_type": "code",
      "source": [
        "df.head()"
      ],
      "metadata": {
        "execution": {
          "iopub.status.busy": "2024-07-13T15:00:50.937482Z",
          "iopub.execute_input": "2024-07-13T15:00:50.937984Z",
          "iopub.status.idle": "2024-07-13T15:00:50.982383Z",
          "shell.execute_reply.started": "2024-07-13T15:00:50.937939Z",
          "shell.execute_reply": "2024-07-13T15:00:50.980721Z"
        },
        "trusted": true,
        "id": "5RbtEzR3zLNu"
      },
      "execution_count": null,
      "outputs": []
    },
    {
      "cell_type": "code",
      "source": [
        "df.columns"
      ],
      "metadata": {
        "execution": {
          "iopub.status.busy": "2024-07-13T15:00:50.983861Z",
          "iopub.execute_input": "2024-07-13T15:00:50.984337Z",
          "iopub.status.idle": "2024-07-13T15:00:50.994469Z",
          "shell.execute_reply.started": "2024-07-13T15:00:50.984296Z",
          "shell.execute_reply": "2024-07-13T15:00:50.993137Z"
        },
        "trusted": true,
        "id": "D-CrAE4OzLNu"
      },
      "execution_count": null,
      "outputs": []
    },
    {
      "cell_type": "markdown",
      "source": [
        "# Null Imputation <a id=\"null-imputation\"></a>\n",
        "[Back to Table of Contents](#back-to-table-of-contents)"
      ],
      "metadata": {
        "id": "bHVhIAO1zLNv"
      }
    },
    {
      "cell_type": "markdown",
      "source": [
        "**Making a copy of df so that we can use it further for model prediction for those handle nulls by themself like XgBoost**"
      ],
      "metadata": {
        "id": "z3kFqZs1zLNv"
      }
    },
    {
      "cell_type": "code",
      "source": [
        "df_with_nulls = df.copy()"
      ],
      "metadata": {
        "execution": {
          "iopub.status.busy": "2024-07-13T15:00:50.99638Z",
          "iopub.execute_input": "2024-07-13T15:00:50.996865Z",
          "iopub.status.idle": "2024-07-13T15:00:51.791912Z",
          "shell.execute_reply.started": "2024-07-13T15:00:50.996822Z",
          "shell.execute_reply": "2024-07-13T15:00:51.790349Z"
        },
        "trusted": true,
        "id": "A4K1dZ8jzLNv"
      },
      "execution_count": null,
      "outputs": []
    },
    {
      "cell_type": "code",
      "source": [],
      "metadata": {
        "trusted": true,
        "id": "57P-3M5xzLNw"
      },
      "execution_count": null,
      "outputs": []
    },
    {
      "cell_type": "markdown",
      "source": [
        "Here we are completing the dataset by substituting missing values with the mean in all numeric columns except for the output column, \"isHacker.\" This ensures data integrity and prevents any potential confusion for the model during analysis."
      ],
      "metadata": {
        "id": "BGX6lSK2zLNw"
      }
    },
    {
      "cell_type": "code",
      "source": [
        "# Select all numeric columns except column 'A'\n",
        "numeric_columns_except_is_Hacker = df.select_dtypes(include=['number']).columns.difference(['isHacker','All_IDs'])\n",
        "\n",
        "# Fill null values with the mean of selected numeric columns\n",
        "df[numeric_columns_except_is_Hacker] = df[numeric_columns_except_is_Hacker].fillna(df[numeric_columns_except_is_Hacker].mean())\n"
      ],
      "metadata": {
        "execution": {
          "iopub.status.busy": "2024-07-13T15:00:51.793729Z",
          "iopub.execute_input": "2024-07-13T15:00:51.794108Z",
          "iopub.status.idle": "2024-07-13T15:00:52.888195Z",
          "shell.execute_reply.started": "2024-07-13T15:00:51.794076Z",
          "shell.execute_reply": "2024-07-13T15:00:52.886611Z"
        },
        "trusted": true,
        "id": "LZ_G2KyyzLNw"
      },
      "execution_count": null,
      "outputs": []
    },
    {
      "cell_type": "code",
      "source": [
        "df=df.drop(\"All_IDs\",axis=1)\n",
        "df.columns"
      ],
      "metadata": {
        "execution": {
          "iopub.status.busy": "2024-07-13T15:00:52.889706Z",
          "iopub.execute_input": "2024-07-13T15:00:52.890177Z",
          "iopub.status.idle": "2024-07-13T15:00:53.160623Z",
          "shell.execute_reply.started": "2024-07-13T15:00:52.890134Z",
          "shell.execute_reply": "2024-07-13T15:00:53.159339Z"
        },
        "trusted": true,
        "id": "LEipYJLzzLNx"
      },
      "execution_count": null,
      "outputs": []
    },
    {
      "cell_type": "code",
      "source": [
        "columns_with_null = df.columns[df.isnull().any()].tolist()"
      ],
      "metadata": {
        "execution": {
          "iopub.status.busy": "2024-07-13T15:00:53.162405Z",
          "iopub.execute_input": "2024-07-13T15:00:53.162886Z",
          "iopub.status.idle": "2024-07-13T15:00:54.019976Z",
          "shell.execute_reply.started": "2024-07-13T15:00:53.162845Z",
          "shell.execute_reply": "2024-07-13T15:00:54.018747Z"
        },
        "trusted": true,
        "id": "S2VmmXWqzLNx"
      },
      "execution_count": null,
      "outputs": []
    },
    {
      "cell_type": "code",
      "source": [
        "columns_with_null"
      ],
      "metadata": {
        "execution": {
          "iopub.status.busy": "2024-07-13T15:00:54.021363Z",
          "iopub.execute_input": "2024-07-13T15:00:54.021825Z",
          "iopub.status.idle": "2024-07-13T15:00:54.030999Z",
          "shell.execute_reply.started": "2024-07-13T15:00:54.021784Z",
          "shell.execute_reply": "2024-07-13T15:00:54.029748Z"
        },
        "trusted": true,
        "id": "lMXrevn7zLNx"
      },
      "execution_count": null,
      "outputs": []
    },
    {
      "cell_type": "markdown",
      "source": [
        "**Hence we have removed all the nulls from numeric columns**"
      ],
      "metadata": {
        "id": "lf1sm2c_zLNy"
      }
    },
    {
      "cell_type": "markdown",
      "source": [
        "# Encoding Categorical Features <a id=\"encoding-categorical-features\"></a>\n",
        "[Back to Table of Contents](#back-to-table-of-contents)"
      ],
      "metadata": {
        "id": "MSrj08uEzLNy"
      }
    },
    {
      "cell_type": "markdown",
      "source": [
        "**Now that we've removed all null values from the numeric columns, let's proceed to handle nulls in the categorical columns by encoding them.**"
      ],
      "metadata": {
        "id": "S66lVlSjzLNz"
      }
    },
    {
      "cell_type": "code",
      "source": [
        "categorical_cols = df.select_dtypes(include=['object', 'category']).columns\n",
        "df = pd.get_dummies(df, columns=categorical_cols,dtype=int)\n"
      ],
      "metadata": {
        "execution": {
          "iopub.status.busy": "2024-07-13T15:00:54.032797Z",
          "iopub.execute_input": "2024-07-13T15:00:54.033266Z",
          "iopub.status.idle": "2024-07-13T15:00:57.18779Z",
          "shell.execute_reply.started": "2024-07-13T15:00:54.033223Z",
          "shell.execute_reply": "2024-07-13T15:00:57.186542Z"
        },
        "trusted": true,
        "id": "2Ff-M6dnzLNz"
      },
      "execution_count": null,
      "outputs": []
    },
    {
      "cell_type": "code",
      "source": [
        "df.head()"
      ],
      "metadata": {
        "execution": {
          "iopub.status.busy": "2024-07-13T15:00:57.189368Z",
          "iopub.execute_input": "2024-07-13T15:00:57.189833Z",
          "iopub.status.idle": "2024-07-13T15:00:57.220059Z",
          "shell.execute_reply.started": "2024-07-13T15:00:57.189792Z",
          "shell.execute_reply": "2024-07-13T15:00:57.218901Z"
        },
        "trusted": true,
        "id": "CUzDYf-bzLNz"
      },
      "execution_count": null,
      "outputs": []
    },
    {
      "cell_type": "markdown",
      "source": [
        "# Preparing to Modeling <a id=\"preparing-to-modeling\"></a>\n",
        "[Back to Table of Contents](#back-to-table-of-contents)"
      ],
      "metadata": {
        "id": "X2iLwTd0zLN0"
      }
    },
    {
      "cell_type": "markdown",
      "source": [
        "# Creation of Training and Validation Sets <a id=\"creation-of-training-and-validaiton-sets\"></a>\n",
        "[Back to Table of Contents](#back-to-table-of-contents)"
      ],
      "metadata": {
        "id": "BkHAaAHpzLN0"
      }
    },
    {
      "cell_type": "markdown",
      "source": [
        "* Now in our current df we have both for which we already have our correct predections and also those for which we need to make our predections\n",
        "* As a next step we need to split our training sets into train and test sets so that we can train our model and test till our model performs well on our test sets\n",
        "* When our model gets trained well we can have predecitons for the validation sets"
      ],
      "metadata": {
        "id": "-XLtcCONzLN0"
      }
    },
    {
      "cell_type": "code",
      "source": [
        "given_df=df[df['isHacker'].notna()]\n",
        "predict_df=df[df['isHacker'].isna()]\n",
        "\n",
        "print(given_df.shape)\n",
        "print(predict_df.shape)"
      ],
      "metadata": {
        "execution": {
          "iopub.status.busy": "2024-07-13T15:00:57.221629Z",
          "iopub.execute_input": "2024-07-13T15:00:57.222062Z",
          "iopub.status.idle": "2024-07-13T15:00:57.439103Z",
          "shell.execute_reply.started": "2024-07-13T15:00:57.222029Z",
          "shell.execute_reply": "2024-07-13T15:00:57.437664Z"
        },
        "trusted": true,
        "id": "USemiWj6zLN1"
      },
      "execution_count": null,
      "outputs": []
    },
    {
      "cell_type": "markdown",
      "source": [
        "**Here we are separating our input variables, also known as features, from our target variable, which is the value we aim to predict, in order to train our model effectively. This division enables us to feed the features into the model to learn patterns and relationships, ultimately enabling it to make accurate predictions or classifications based on the provided features.**"
      ],
      "metadata": {
        "id": "iba50oQKzLN2"
      }
    },
    {
      "cell_type": "code",
      "source": [
        "X=given_df.drop('isHacker',axis=1)\n",
        "y=given_df['isHacker']"
      ],
      "metadata": {
        "execution": {
          "iopub.status.busy": "2024-07-13T15:00:57.440804Z",
          "iopub.execute_input": "2024-07-13T15:00:57.441203Z",
          "iopub.status.idle": "2024-07-13T15:00:57.524259Z",
          "shell.execute_reply.started": "2024-07-13T15:00:57.441169Z",
          "shell.execute_reply": "2024-07-13T15:00:57.522995Z"
        },
        "trusted": true,
        "id": "Qh2a-Iq4zLN2"
      },
      "execution_count": null,
      "outputs": []
    },
    {
      "cell_type": "code",
      "source": [
        "columns_with_null = X.columns[X.isnull().any()].tolist()"
      ],
      "metadata": {
        "execution": {
          "iopub.status.busy": "2024-07-13T15:00:57.525643Z",
          "iopub.execute_input": "2024-07-13T15:00:57.52602Z",
          "iopub.status.idle": "2024-07-13T15:00:57.563326Z",
          "shell.execute_reply.started": "2024-07-13T15:00:57.525988Z",
          "shell.execute_reply": "2024-07-13T15:00:57.562195Z"
        },
        "trusted": true,
        "id": "_MTaWcYZzLN3"
      },
      "execution_count": null,
      "outputs": []
    },
    {
      "cell_type": "code",
      "source": [
        "columns_with_null"
      ],
      "metadata": {
        "execution": {
          "iopub.status.busy": "2024-07-13T15:00:57.565099Z",
          "iopub.execute_input": "2024-07-13T15:00:57.565525Z",
          "iopub.status.idle": "2024-07-13T15:00:57.573051Z",
          "shell.execute_reply.started": "2024-07-13T15:00:57.565463Z",
          "shell.execute_reply": "2024-07-13T15:00:57.571752Z"
        },
        "trusted": true,
        "id": "6Js3Z6k6zLN4"
      },
      "execution_count": null,
      "outputs": []
    },
    {
      "cell_type": "markdown",
      "source": [
        "**Quality check to see if we have removed all the nulls from our features**"
      ],
      "metadata": {
        "id": "-UNSqA6jzLN5"
      }
    },
    {
      "cell_type": "markdown",
      "source": [
        "**Now we are spliting our training sets into train and test**"
      ],
      "metadata": {
        "id": "F7Un5bbfzLN6"
      }
    },
    {
      "cell_type": "code",
      "source": [
        "X_train, X_valid, y_train, y_valid = train_test_split(X,y,stratify=y,train_size=0.8,test_size=0.2,random_state=0)\n",
        "X_test = X_valid"
      ],
      "metadata": {
        "execution": {
          "iopub.status.busy": "2024-07-13T15:00:57.574421Z",
          "iopub.execute_input": "2024-07-13T15:00:57.574798Z",
          "iopub.status.idle": "2024-07-13T15:00:58.38009Z",
          "shell.execute_reply.started": "2024-07-13T15:00:57.574767Z",
          "shell.execute_reply": "2024-07-13T15:00:58.378927Z"
        },
        "trusted": true,
        "id": "nJ82PfnzzLN6"
      },
      "execution_count": null,
      "outputs": []
    },
    {
      "cell_type": "code",
      "source": [
        "y_train.value_counts()/len(y_train) * 100"
      ],
      "metadata": {
        "execution": {
          "iopub.status.busy": "2024-07-13T15:00:58.381364Z",
          "iopub.execute_input": "2024-07-13T15:00:58.381718Z",
          "iopub.status.idle": "2024-07-13T15:00:58.394981Z",
          "shell.execute_reply.started": "2024-07-13T15:00:58.381688Z",
          "shell.execute_reply": "2024-07-13T15:00:58.393601Z"
        },
        "trusted": true,
        "id": "ZroaIDRFzLN7"
      },
      "execution_count": null,
      "outputs": []
    },
    {
      "cell_type": "markdown",
      "source": [
        "# The Data is highly imbalanced. Our goal is to detect the fraudulent payments. For our model to be effective we need to balance the data first or select the model and its hyperparameters to balance the effect of class-Imbalance"
      ],
      "metadata": {
        "id": "Qf0CR15RzLN7"
      }
    },
    {
      "cell_type": "markdown",
      "source": [
        "# Baseline models and test for all features <a id=\"baseline-models-and-test-for-all-features\"></a>\n",
        "[Back to Table of Contents](#back-to-table-of-contents)"
      ],
      "metadata": {
        "id": "LMf8ir_5zLN8"
      }
    },
    {
      "cell_type": "markdown",
      "source": [
        "# Logistic Regression <a id=\"baseline-logistic-regression\"></a>\n",
        "[Back to Table of Contents](#back-to-table-of-contents)"
      ],
      "metadata": {
        "id": "7vNYigEvzLN8"
      }
    },
    {
      "cell_type": "code",
      "source": [
        "# Initialize logistic regression model\n",
        "logistic_model = LogisticRegression()\n",
        "\n",
        "# Train the model\n",
        "logistic_model.fit(X_train, y_train)\n",
        "\n",
        "# Predict on the validation set\n",
        "y_pred_valid = logistic_model.predict(X_valid)\n",
        "\n",
        "# Calculate evaluation metrics\n",
        "precision = precision_score(y_valid, y_pred_valid)\n",
        "recall = recall_score(y_valid, y_pred_valid)\n",
        "accuracy = accuracy_score(y_valid, y_pred_valid)\n",
        "auroc = roc_auc_score(y_valid, y_pred_valid)\n",
        "f1score = f1_score(y_valid, y_pred_valid)\n",
        "# Compute probabilities and precision-recall curve\n",
        "y_scores = logistic_model.predict_proba(X_test)[:, 1]\n",
        "precision, recall, thresholds = precision_recall_curve(y_valid, y_scores)\n",
        "\n",
        "# Compute AUC for the precision-recall curve\n",
        "auc_pr = auc(recall, precision)\n",
        "\n",
        "# Print evaluation metrics\n",
        "print(\"Precision:\", precision)\n",
        "print(\"Recall:\", recall)\n",
        "print(\"Accuracy:\", accuracy)\n",
        "print(\"AUROC:\", auroc)\n",
        "print(\"F1 Score:\", f1score)\n",
        "print(\"AUPRC:\", auc_pr)\n",
        "\n",
        "cm = confusion_matrix(y_valid, y_pred_valid)\n",
        "\n",
        "# Plot confusion matrix\n",
        "plt.figure(figsize=(6, 4))\n",
        "sns.heatmap(cm, annot=True, fmt='d', cmap='Blues', cbar=False,\n",
        "            xticklabels=['Predicted Negative', 'Predicted Positive'],\n",
        "            yticklabels=['Actual Negative', 'Actual Positive'])\n",
        "plt.xlabel('Predicted Label')\n",
        "plt.ylabel('True Label')\n",
        "plt.title('Confusion Matrix')\n",
        "plt.show()"
      ],
      "metadata": {
        "execution": {
          "iopub.status.busy": "2024-07-13T15:00:58.396127Z",
          "iopub.execute_input": "2024-07-13T15:00:58.39648Z",
          "iopub.status.idle": "2024-07-13T15:01:13.240713Z",
          "shell.execute_reply.started": "2024-07-13T15:00:58.396449Z",
          "shell.execute_reply": "2024-07-13T15:01:13.23918Z"
        },
        "trusted": true,
        "id": "b4RS8JemzLN8"
      },
      "execution_count": null,
      "outputs": []
    },
    {
      "cell_type": "markdown",
      "source": [
        "# Decision Tree Classifier <a id=\"baseline-decision-tree-classifier\"></a>\n",
        "[Back to Table of Contents](#back-to-table-of-contents)"
      ],
      "metadata": {
        "id": "kvDvXOFuzLN9"
      }
    },
    {
      "cell_type": "code",
      "source": [
        "# Initialize decision tree model\n",
        "decision_tree_model = DecisionTreeClassifier(random_state=0)\n",
        "\n",
        "# Train the model\n",
        "decision_tree_model.fit(X_train, y_train)\n",
        "\n",
        "# Predict on the validation set\n",
        "y_pred_valid = decision_tree_model.predict(X_valid)\n",
        "\n",
        "# Calculate evaluation metrics\n",
        "precision = precision_score(y_valid, y_pred_valid)\n",
        "recall = recall_score(y_valid, y_pred_valid)\n",
        "accuracy = accuracy_score(y_valid, y_pred_valid)\n",
        "auroc = roc_auc_score(y_valid, y_pred_valid)\n",
        "f1score = f1_score(y_valid, y_pred_valid)\n",
        "# Compute probabilities and precision-recall curve\n",
        "y_scores = decision_tree_model.predict_proba(X_test)[:, 1]\n",
        "precision, recall, thresholds = precision_recall_curve(y_valid, y_scores)\n",
        "\n",
        "# Compute AUC for the precision-recall curve\n",
        "auc_pr = auc(recall, precision)\n",
        "\n",
        "# Print evaluation metrics\n",
        "print(\"Precision:\", precision)\n",
        "print(\"Recall:\", recall)\n",
        "print(\"Accuracy:\", accuracy)\n",
        "print(\"AUROC:\", auroc)\n",
        "print(\"F1 Score:\", f1score)\n",
        "print(\"AUPRC:\", auc_pr)\n",
        "\n",
        "cm = confusion_matrix(y_valid, y_pred_valid)\n",
        "\n",
        "# Plot confusion matrix\n",
        "plt.figure(figsize=(6, 4))\n",
        "sns.heatmap(cm, annot=True, fmt='d', cmap='Blues', cbar=False,\n",
        "            xticklabels=['Predicted Negative', 'Predicted Positive'],\n",
        "            yticklabels=['Actual Negative', 'Actual Positive'])\n",
        "plt.xlabel('Predicted Label')\n",
        "plt.ylabel('True Label')\n",
        "plt.title('Confusion Matrix')\n",
        "plt.show()"
      ],
      "metadata": {
        "execution": {
          "iopub.status.busy": "2024-07-13T15:01:13.242646Z",
          "iopub.execute_input": "2024-07-13T15:01:13.244014Z",
          "iopub.status.idle": "2024-07-13T15:01:36.114679Z",
          "shell.execute_reply.started": "2024-07-13T15:01:13.243963Z",
          "shell.execute_reply": "2024-07-13T15:01:36.113561Z"
        },
        "trusted": true,
        "id": "uUkVyQMNzLN9"
      },
      "execution_count": null,
      "outputs": []
    },
    {
      "cell_type": "markdown",
      "source": [
        "# Random Forests Classifier <a id=\"baseline-random-forests-classifier\"></a>\n",
        "[Back to Table of Contents](#back-to-table-of-contents)"
      ],
      "metadata": {
        "id": "Wq_THYHizLN-"
      }
    },
    {
      "cell_type": "code",
      "source": [
        "# Initialize Random Forest Classifier model\n",
        "random_forest_model = RandomForestClassifier(random_state=0)\n",
        "\n",
        "# Train the model\n",
        "random_forest_model.fit(X_train, y_train)\n",
        "\n",
        "# Predict on the validation set\n",
        "y_pred_valid = random_forest_model.predict(X_valid)\n",
        "\n",
        "# Calculate evaluation metrics\n",
        "precision = precision_score(y_valid, y_pred_valid)\n",
        "recall = recall_score(y_valid, y_pred_valid)\n",
        "accuracy = accuracy_score(y_valid, y_pred_valid)\n",
        "auroc = roc_auc_score(y_valid, y_pred_valid)\n",
        "f1score = f1_score(y_valid, y_pred_valid)\n",
        "# Compute probabilities and precision-recall curve\n",
        "y_scores = random_forest_model.predict_proba(X_test)[:, 1]\n",
        "precision, recall, thresholds = precision_recall_curve(y_valid, y_scores)\n",
        "\n",
        "# Compute AUC for the precision-recall curve\n",
        "auc_pr = auc(recall, precision)\n",
        "\n",
        "# Print evaluation metrics\n",
        "print(\"Precision:\", precision)\n",
        "print(\"Recall:\", recall)\n",
        "print(\"Accuracy:\", accuracy)\n",
        "print(\"AUROC:\", auroc)\n",
        "print(\"F1 Score:\", f1score)\n",
        "print(\"AUPRC:\", auc_pr)\n",
        "\n",
        "cm = confusion_matrix(y_valid, y_pred_valid)\n",
        "\n",
        "# Plot confusion matrix\n",
        "plt.figure(figsize=(6, 4))\n",
        "sns.heatmap(cm, annot=True, fmt='d', cmap='Blues', cbar=False,\n",
        "            xticklabels=['Predicted Negative', 'Predicted Positive'],\n",
        "            yticklabels=['Actual Negative', 'Actual Positive'])\n",
        "plt.xlabel('Predicted Label')\n",
        "plt.ylabel('True Label')\n",
        "plt.title('Confusion Matrix')\n",
        "plt.show()"
      ],
      "metadata": {
        "execution": {
          "iopub.status.busy": "2024-07-13T15:01:36.123159Z",
          "iopub.execute_input": "2024-07-13T15:01:36.124219Z",
          "iopub.status.idle": "2024-07-13T15:04:19.807548Z",
          "shell.execute_reply.started": "2024-07-13T15:01:36.124179Z",
          "shell.execute_reply": "2024-07-13T15:04:19.806343Z"
        },
        "trusted": true,
        "id": "rWBmSf2HzLN-"
      },
      "execution_count": null,
      "outputs": []
    },
    {
      "cell_type": "markdown",
      "source": [
        "# XGB Classifier <a id=\"baseline-xgb-classifier\"></a>\n",
        "[Back to Table of Contents](#back-to-table-of-contents)"
      ],
      "metadata": {
        "id": "nwg72Kg5zLN-"
      }
    },
    {
      "cell_type": "code",
      "source": [
        "# Initialize XGBoost Classifier model\n",
        "xgb_model = xgb.XGBClassifier()\n",
        "\n",
        "# Train the model\n",
        "xgb_model.fit(X_train, y_train)\n",
        "\n",
        "# Predict on the validation set\n",
        "y_pred_valid = xgb_model.predict(X_valid)\n",
        "\n",
        "# Calculate evaluation metrics\n",
        "precision = precision_score(y_valid, y_pred_valid)\n",
        "recall = recall_score(y_valid, y_pred_valid)\n",
        "accuracy = accuracy_score(y_valid, y_pred_valid)\n",
        "auroc = roc_auc_score(y_valid, y_pred_valid)\n",
        "f1score = f1_score(y_valid, y_pred_valid)\n",
        "# Compute probabilities and precision-recall curve\n",
        "y_scores = xgb_model.predict_proba(X_test)[:, 1]\n",
        "precision, recall, thresholds = precision_recall_curve(y_valid, y_scores)\n",
        "\n",
        "# Compute AUC for the precision-recall curve\n",
        "auc_pr = auc(recall, precision)\n",
        "\n",
        "# Print evaluation metrics\n",
        "print(\"Precision:\", precision)\n",
        "print(\"Recall:\", recall)\n",
        "print(\"Accuracy:\", accuracy)\n",
        "print(\"AUROC:\", auroc)\n",
        "print(\"F1 Score:\", f1score)\n",
        "print(\"AUPRC:\", auc_pr)\n",
        "\n",
        "cm = confusion_matrix(y_valid, y_pred_valid)\n",
        "\n",
        "# Plot confusion matrix\n",
        "plt.figure(figsize=(6, 4))\n",
        "sns.heatmap(cm, annot=True, fmt='d', cmap='Blues', cbar=False,\n",
        "            xticklabels=['Predicted Negative', 'Predicted Positive'],\n",
        "            yticklabels=['Actual Negative', 'Actual Positive'])\n",
        "plt.xlabel('Predicted Label')\n",
        "plt.ylabel('True Label')\n",
        "plt.title('Confusion Matrix')\n",
        "plt.show()"
      ],
      "metadata": {
        "execution": {
          "iopub.status.busy": "2024-07-13T15:04:19.809646Z",
          "iopub.execute_input": "2024-07-13T15:04:19.810472Z",
          "iopub.status.idle": "2024-07-13T15:04:37.642695Z",
          "shell.execute_reply.started": "2024-07-13T15:04:19.810431Z",
          "shell.execute_reply": "2024-07-13T15:04:37.641527Z"
        },
        "trusted": true,
        "id": "58Z-zlSqzLN_"
      },
      "execution_count": null,
      "outputs": []
    },
    {
      "cell_type": "markdown",
      "source": [
        "# LGBM Classifier <a id=\"baseline-lgbm-classifier\"></a>\n",
        "[Back to Table of Contents](#back-to-table-of-contents)"
      ],
      "metadata": {
        "id": "eDjCNgv7zLN_"
      }
    },
    {
      "cell_type": "code",
      "source": [
        "# Initialize LGBM Classifier model\n",
        "lgbm_model = lgb.LGBMClassifier()\n",
        "\n",
        "# Train the model\n",
        "lgbm_model.fit(X_train, y_train)\n",
        "\n",
        "# Predict on the validation set\n",
        "y_pred_valid = lgbm_model.predict(X_valid)\n",
        "\n",
        "# Calculate evaluation metrics\n",
        "precision = precision_score(y_valid, y_pred_valid)\n",
        "recall = recall_score(y_valid, y_pred_valid)\n",
        "accuracy = accuracy_score(y_valid, y_pred_valid)\n",
        "auroc = roc_auc_score(y_valid, y_pred_valid)\n",
        "f1score = f1_score(y_valid, y_pred_valid)\n",
        "# Compute probabilities and precision-recall curve\n",
        "y_scores = lgbm_model.predict_proba(X_test)[:, 1]\n",
        "precision, recall, thresholds = precision_recall_curve(y_valid, y_scores)\n",
        "\n",
        "# Compute AUC for the precision-recall curve\n",
        "auc_pr = auc(recall, precision)\n",
        "\n",
        "# Print evaluation metrics\n",
        "print(\"Precision:\", precision)\n",
        "print(\"Recall:\", recall)\n",
        "print(\"Accuracy:\", accuracy)\n",
        "print(\"AUROC:\", auroc)\n",
        "print(\"F1 Score:\", f1score)\n",
        "print(\"AUPRC:\", auc_pr)\n",
        "\n",
        "cm = confusion_matrix(y_valid, y_pred_valid)\n",
        "\n",
        "# Plot confusion matrix\n",
        "plt.figure(figsize=(6, 4))\n",
        "sns.heatmap(cm, annot=True, fmt='d', cmap='Blues', cbar=False,\n",
        "            xticklabels=['Predicted Negative', 'Predicted Positive'],\n",
        "            yticklabels=['Actual Negative', 'Actual Positive'])\n",
        "plt.xlabel('Predicted Label')\n",
        "plt.ylabel('True Label')\n",
        "plt.title('Confusion Matrix')\n",
        "plt.show()"
      ],
      "metadata": {
        "execution": {
          "iopub.status.busy": "2024-07-13T15:04:37.646731Z",
          "iopub.execute_input": "2024-07-13T15:04:37.647114Z",
          "iopub.status.idle": "2024-07-13T15:04:51.094923Z",
          "shell.execute_reply.started": "2024-07-13T15:04:37.647082Z",
          "shell.execute_reply": "2024-07-13T15:04:51.092977Z"
        },
        "trusted": true,
        "id": "DPtYv6urzLOA"
      },
      "execution_count": null,
      "outputs": []
    },
    {
      "cell_type": "markdown",
      "source": [
        "Create a tabluar view of all the model performances"
      ],
      "metadata": {
        "id": "mSSWCAvEzLOA"
      }
    },
    {
      "cell_type": "markdown",
      "source": [
        "# BEST - Model with Hyperparameter Tuning <a id=\"models-with-hyperparameter-tuning\"></a>\n",
        "[Back to Table of Contents](#back-to-table-of-contents)"
      ],
      "metadata": {
        "id": "Frpd9lROzLOA"
      }
    },
    {
      "cell_type": "markdown",
      "source": [
        "**This is used to select top features for our Final Model**"
      ],
      "metadata": {
        "id": "AZ9uIp6TzLOB"
      }
    },
    {
      "cell_type": "markdown",
      "source": [
        "**Encoding Categorical Features**"
      ],
      "metadata": {
        "id": "UMGem14MzLOB"
      }
    },
    {
      "cell_type": "code",
      "source": [
        "categorical_cols = df_with_nulls.select_dtypes(include=['object', 'category']).columns\n",
        "df_with_nulls = pd.get_dummies(df_with_nulls, columns=categorical_cols,dtype=int)\n"
      ],
      "metadata": {
        "execution": {
          "iopub.status.busy": "2024-07-13T15:04:51.097329Z",
          "iopub.execute_input": "2024-07-13T15:04:51.098503Z",
          "iopub.status.idle": "2024-07-13T15:04:53.818331Z",
          "shell.execute_reply.started": "2024-07-13T15:04:51.098427Z",
          "shell.execute_reply": "2024-07-13T15:04:53.817044Z"
        },
        "trusted": true,
        "id": "-LKxpfI3zLOB"
      },
      "execution_count": null,
      "outputs": []
    },
    {
      "cell_type": "code",
      "source": [
        "# from sklearn.preprocessing import StandardScaler\n",
        "\n",
        "# columns_to_scale = df_with_nulls.select_dtypes(include=['float64', 'int64']).columns\n",
        "# columns_to_exclude = ['All_IDs', 'isHacker']\n",
        "\n",
        "# columns_to_scale = [col for col in columns_to_scale if col not in columns_to_exclude]\n",
        "\n",
        "# # Standard scaling on numeric columns\n",
        "# scaler = StandardScaler()\n",
        "# df_with_nulls[columns_to_scale] = scaler.fit_transform(df_with_nulls[columns_to_scale])\n",
        "\n"
      ],
      "metadata": {
        "execution": {
          "iopub.status.busy": "2024-07-13T15:04:53.81988Z",
          "iopub.execute_input": "2024-07-13T15:04:53.82025Z",
          "iopub.status.idle": "2024-07-13T15:04:53.825761Z",
          "shell.execute_reply.started": "2024-07-13T15:04:53.820218Z",
          "shell.execute_reply": "2024-07-13T15:04:53.824458Z"
        },
        "trusted": true,
        "id": "lUVfddNHzLOC"
      },
      "execution_count": null,
      "outputs": []
    },
    {
      "cell_type": "code",
      "source": [
        "df_with_nulls.head()"
      ],
      "metadata": {
        "execution": {
          "iopub.status.busy": "2024-07-13T15:04:53.827474Z",
          "iopub.execute_input": "2024-07-13T15:04:53.827896Z",
          "iopub.status.idle": "2024-07-13T15:04:53.864278Z",
          "shell.execute_reply.started": "2024-07-13T15:04:53.827864Z",
          "shell.execute_reply": "2024-07-13T15:04:53.86286Z"
        },
        "trusted": true,
        "id": "osjTUrVizLOC"
      },
      "execution_count": null,
      "outputs": []
    },
    {
      "cell_type": "code",
      "source": [
        "given_df=df_with_nulls[df_with_nulls['isHacker'].notna()]\n",
        "predict_df=df_with_nulls[df_with_nulls['isHacker'].isna()]\n",
        "\n",
        "print(given_df.shape)\n",
        "print(predict_df.shape)"
      ],
      "metadata": {
        "execution": {
          "iopub.status.busy": "2024-07-13T15:04:53.866047Z",
          "iopub.execute_input": "2024-07-13T15:04:53.866429Z",
          "iopub.status.idle": "2024-07-13T15:04:54.111548Z",
          "shell.execute_reply.started": "2024-07-13T15:04:53.866385Z",
          "shell.execute_reply": "2024-07-13T15:04:54.110208Z"
        },
        "trusted": true,
        "id": "d4zOO5vpzLOC"
      },
      "execution_count": null,
      "outputs": []
    },
    {
      "cell_type": "code",
      "source": [
        "given_df.head()"
      ],
      "metadata": {
        "execution": {
          "iopub.status.busy": "2024-07-13T15:04:54.113352Z",
          "iopub.execute_input": "2024-07-13T15:04:54.113725Z",
          "iopub.status.idle": "2024-07-13T15:04:54.147187Z",
          "shell.execute_reply.started": "2024-07-13T15:04:54.113692Z",
          "shell.execute_reply": "2024-07-13T15:04:54.145995Z"
        },
        "trusted": true,
        "id": "h7uEvABGzLOD"
      },
      "execution_count": null,
      "outputs": []
    },
    {
      "cell_type": "code",
      "source": [
        "X=given_df.drop(['isHacker','All_IDs'],axis=1)\n",
        "y=given_df['isHacker']"
      ],
      "metadata": {
        "execution": {
          "iopub.status.busy": "2024-07-13T15:04:54.148646Z",
          "iopub.execute_input": "2024-07-13T15:04:54.149082Z",
          "iopub.status.idle": "2024-07-13T15:04:54.241257Z",
          "shell.execute_reply.started": "2024-07-13T15:04:54.149041Z",
          "shell.execute_reply": "2024-07-13T15:04:54.240257Z"
        },
        "trusted": true,
        "id": "RO8jrLcAzLOD"
      },
      "execution_count": null,
      "outputs": []
    },
    {
      "cell_type": "code",
      "source": [
        "X.head()"
      ],
      "metadata": {
        "execution": {
          "iopub.status.busy": "2024-07-13T15:04:54.242403Z",
          "iopub.execute_input": "2024-07-13T15:04:54.242759Z",
          "iopub.status.idle": "2024-07-13T15:04:54.27263Z",
          "shell.execute_reply.started": "2024-07-13T15:04:54.242729Z",
          "shell.execute_reply": "2024-07-13T15:04:54.271554Z"
        },
        "trusted": true,
        "id": "iBEmR3wGzLOD"
      },
      "execution_count": null,
      "outputs": []
    },
    {
      "cell_type": "code",
      "source": [
        "X_train, X_test, y_train, y_test = train_test_split(X, y, test_size=0.25, random_state=42)\n",
        "\n",
        "# Define the space of hyperparameters to search\n",
        "space = {\n",
        "    'max_depth': hp.choice('max_depth', range(3, 8)),  # Using range for max_depth\n",
        "    'learning_rate': hp.uniform('learning_rate', 0.01, 0.2),\n",
        "    'n_estimators': 300,  # Fixed value, so not a hyperparameter to optimize\n",
        "    'colsample_bytree': hp.uniform('colsample_bytree', 0.5, 1),\n",
        "    'subsample': hp.uniform('subsample', 0.5, 1),\n",
        "    'scale_pos_weight': hp.uniform('scale_pos_weight', 1, 10)\n",
        "}\n",
        "\n",
        "# Objective function to minimize\n",
        "def objective(params):\n",
        "    params['n_estimators'] = 300  # Adding n_estimators as it's a fixed value\n",
        "    clf = xgb.XGBClassifier(**params)\n",
        "    clf.fit(X_train, y_train)\n",
        "    y_pred = clf.predict(X_train)\n",
        "    f1 = f1_score(y_train, y_pred, average='binary')\n",
        "    return {'loss': -f1, 'status': STATUS_OK}\n",
        "\n",
        "# Run the hyperparameter search using the TPE algorithm\n",
        "trials = Trials()\n",
        "best = fmin(fn=objective,\n",
        "            space=space,\n",
        "            algo=tpe.suggest,\n",
        "            max_evals=3,\n",
        "            trials=trials)\n",
        "\n",
        "# Extract best parameters\n",
        "best_params = space_eval(space, best)\n",
        "print(\"Best hyperparameters:\", best_params)\n",
        "\n",
        "# Train the model with the best parameters\n",
        "model = xgb.XGBClassifier(**best_params)\n",
        "model.fit(X_train, y_train)\n",
        "\n",
        "# Evaluate the model on training and testing data\n",
        "y_pred_train = model.predict(X_train)\n",
        "y_pred_test = model.predict(X_test)\n",
        "\n",
        "metrics_train = {\n",
        "    'F1': f1_score(y_train, y_pred_train),\n",
        "    'Accuracy': accuracy_score(y_train, y_pred_train),\n",
        "    'Precision': precision_score(y_train, y_pred_train),\n",
        "    'Recall': recall_score(y_train, y_pred_train)\n",
        "}\n",
        "\n",
        "metrics_test = {\n",
        "    'F1': f1_score(y_test, y_pred_test),\n",
        "    'Accuracy': accuracy_score(y_test, y_pred_test),\n",
        "    'Precision': precision_score(y_test, y_pred_test),\n",
        "    'Recall': recall_score(y_test, y_pred_test)\n",
        "}\n",
        "\n",
        "print(\"Training performance:\", metrics_train)\n",
        "print(\"Testing performance:\", metrics_test)\n",
        "\n",
        "# Compute probabilities and precision-recall curve\n",
        "y_scores = model.predict_proba(X_test)[:, 1]\n",
        "precision, recall, thresholds = precision_recall_curve(y_test, y_scores)\n",
        "\n",
        "# Compute AUC for the precision-recall curve\n",
        "auc_pr = auc(recall, precision)\n",
        "print('Area under the Precision-Recall curve:', auc_pr)\n",
        "\n",
        "cm = confusion_matrix(y_test, y_pred_test)\n",
        "\n",
        "# Plot confusion matrix\n",
        "plt.figure(figsize=(6, 4))\n",
        "sns.heatmap(cm, annot=True, fmt='d', cmap='Blues', cbar=False,\n",
        "            xticklabels=['Predicted Negative', 'Predicted Positive'],\n",
        "            yticklabels=['Actual Negative', 'Actual Positive'])\n",
        "plt.xlabel('Predicted Label')\n",
        "plt.ylabel('True Label')\n",
        "plt.title('Confusion Matrix')\n",
        "plt.show()\n"
      ],
      "metadata": {
        "execution": {
          "iopub.status.busy": "2024-07-13T15:04:54.274258Z",
          "iopub.execute_input": "2024-07-13T15:04:54.274739Z",
          "iopub.status.idle": "2024-07-13T15:06:32.969608Z",
          "shell.execute_reply.started": "2024-07-13T15:04:54.274698Z",
          "shell.execute_reply": "2024-07-13T15:06:32.968404Z"
        },
        "trusted": true,
        "id": "6uTKMloJzLOE"
      },
      "execution_count": null,
      "outputs": []
    },
    {
      "cell_type": "markdown",
      "source": [
        "# Feature Importance <a id=\"feature-importance\"></a>\n",
        "[Back to Table of Contents](#back-to-table-of-contents)"
      ],
      "metadata": {
        "id": "yccoWuPbzLOE"
      }
    },
    {
      "cell_type": "markdown",
      "source": [
        "**Next, we'll assess the feature importance to identify and remove non-important features from our dataset. This will allow us to train our model more efficiently and prevant from overfitting.**"
      ],
      "metadata": {
        "id": "G0e_EFw5zLOF"
      }
    },
    {
      "cell_type": "code",
      "source": [
        "feature_importances = model.feature_importances_ * 100 / sum(model.feature_importances_)\n",
        "\n",
        "feature_names = X_train.columns.tolist()\n",
        "\n",
        "feature_imp = pd.DataFrame({\n",
        "    'Feature': feature_names,\n",
        "    'Importance': feature_importances\n",
        "})\n",
        "\n",
        "feature_imp = feature_imp.sort_values(by='Importance', ascending=False)\n",
        "feature_imp['Importance_cum_sum']=feature_imp['Importance'].cumsum()"
      ],
      "metadata": {
        "execution": {
          "iopub.status.busy": "2024-07-13T15:06:32.97143Z",
          "iopub.execute_input": "2024-07-13T15:06:32.972195Z",
          "iopub.status.idle": "2024-07-13T15:06:32.984829Z",
          "shell.execute_reply.started": "2024-07-13T15:06:32.972152Z",
          "shell.execute_reply": "2024-07-13T15:06:32.983374Z"
        },
        "trusted": true,
        "id": "o6VK6xKJzLOF"
      },
      "execution_count": null,
      "outputs": []
    },
    {
      "cell_type": "code",
      "source": [
        "feature_imp.head(40)"
      ],
      "metadata": {
        "execution": {
          "iopub.status.busy": "2024-07-13T15:06:32.987178Z",
          "iopub.execute_input": "2024-07-13T15:06:32.987774Z",
          "iopub.status.idle": "2024-07-13T15:06:33.013856Z",
          "shell.execute_reply.started": "2024-07-13T15:06:32.987731Z",
          "shell.execute_reply": "2024-07-13T15:06:33.012614Z"
        },
        "trusted": true,
        "id": "lGpUm06bzLOF"
      },
      "execution_count": null,
      "outputs": []
    },
    {
      "cell_type": "markdown",
      "source": [
        "**Columns to select for final feature**"
      ],
      "metadata": {
        "id": "VxzbkWnBzLOG"
      }
    },
    {
      "cell_type": "code",
      "source": [
        "important_features = feature_imp[feature_imp['Importance_cum_sum']<=95]['Feature'].tolist()\n"
      ],
      "metadata": {
        "execution": {
          "iopub.status.busy": "2024-07-13T15:06:33.01543Z",
          "iopub.execute_input": "2024-07-13T15:06:33.016328Z",
          "iopub.status.idle": "2024-07-13T15:06:33.024758Z",
          "shell.execute_reply.started": "2024-07-13T15:06:33.016283Z",
          "shell.execute_reply": "2024-07-13T15:06:33.023233Z"
        },
        "trusted": true,
        "id": "xnKgsJG7zLOG"
      },
      "execution_count": null,
      "outputs": []
    },
    {
      "cell_type": "code",
      "source": [],
      "metadata": {
        "trusted": true,
        "id": "DpHnXZpGzLOH"
      },
      "execution_count": null,
      "outputs": []
    },
    {
      "cell_type": "code",
      "source": [
        "feature_imp"
      ],
      "metadata": {
        "execution": {
          "iopub.status.busy": "2024-07-13T15:06:33.026775Z",
          "iopub.execute_input": "2024-07-13T15:06:33.030628Z",
          "iopub.status.idle": "2024-07-13T15:06:33.047335Z",
          "shell.execute_reply.started": "2024-07-13T15:06:33.030586Z",
          "shell.execute_reply": "2024-07-13T15:06:33.046042Z"
        },
        "trusted": true,
        "id": "uF6MMgXazLOH"
      },
      "execution_count": null,
      "outputs": []
    },
    {
      "cell_type": "code",
      "source": [],
      "metadata": {
        "id": "H8jcRpMczLOI"
      },
      "execution_count": null,
      "outputs": []
    },
    {
      "cell_type": "code",
      "source": [],
      "metadata": {
        "trusted": true,
        "id": "0TVTCoQCzLOJ"
      },
      "execution_count": null,
      "outputs": []
    },
    {
      "cell_type": "markdown",
      "source": [
        "# Final Model with Important Features <a id=\"final-models-with-important-features\"></a>\n",
        "[Back to Table of Contents](#back-to-table-of-contents)"
      ],
      "metadata": {
        "id": "Li4iJq7SzLOJ"
      }
    },
    {
      "cell_type": "code",
      "source": [
        "X_train, X_test, y_train, y_test = train_test_split(X[important_features], y, test_size=0.25, random_state=42)\n",
        "\n",
        "# Define the space of hyperparameters to search\n",
        "space = {\n",
        "    'max_depth': hp.choice('max_depth', range(3, 8)),  # Using range for max_depth\n",
        "    'learning_rate': hp.uniform('learning_rate', 0.01, 0.2),\n",
        "    'n_estimators': 300,  # Fixed value, so not a hyperparameter to optimize\n",
        "    'colsample_bytree': hp.uniform('colsample_bytree', 0.5, 1),\n",
        "    'subsample': hp.uniform('subsample', 0.3,0.5),\n",
        "    'scale_pos_weight': hp.uniform('scale_pos_weight', 5,12),\n",
        "    'gamma': hp.uniform('gamma', 0, 5),  # Regularization term, controls node split\n",
        "    'reg_lambda': hp.uniform('reg_lambda', 0, 5),  # L2 regularization term\n",
        "    'reg_alpha': hp.uniform('reg_alpha', 0, 5)  # L1 regularization term\n",
        "\n",
        "}\n",
        "\n",
        "# Objective function to minimize\n",
        "def objective(params):\n",
        "    params['n_estimators'] = 300  # Adding n_estimators as it's a fixed value\n",
        "    clf = xgb.XGBClassifier(**params)\n",
        "    clf.fit(X_train, y_train)\n",
        "    y_pred = clf.predict(X_train)\n",
        "    f1 = f1_score(y_train, y_pred, average='binary')\n",
        "    return {'loss': -f1, 'status': STATUS_OK}\n",
        "\n",
        "# Run the hyperparameter search using the TPE algorithm\n",
        "trials = Trials()\n",
        "best = fmin(fn=objective,\n",
        "            space=space,\n",
        "            algo=tpe.suggest,\n",
        "            max_evals=3,\n",
        "            trials=trials)\n",
        "\n",
        "# Extract best parameters\n",
        "best_params = space_eval(space, best)\n",
        "#best_params={'colsample_bytree': 0.7318073467652191, 'learning_rate': 0.039182513095905605, 'max_depth': 7, 'n_estimators': 300, 'scale_pos_weight': 1.8857050501393158, 'subsample': 0.967149051908317}\n",
        "\n",
        "print(\"Best hyperparameters:\", best_params)\n",
        "\n",
        "# Train the model with the best parameters\n",
        "model = xgb.XGBClassifier(**best_params)\n",
        "model.fit(X_train, y_train)\n",
        "\n",
        "# Evaluate the model on training and testing data\n",
        "y_pred_train = model.predict(X_train)\n",
        "y_pred_test = model.predict(X_test)\n",
        "\n",
        "metrics_train = {\n",
        "    'F1': f1_score(y_train, y_pred_train),\n",
        "    'Accuracy': accuracy_score(y_train, y_pred_train),\n",
        "    'Precision': precision_score(y_train, y_pred_train),\n",
        "    'Recall': recall_score(y_train, y_pred_train)\n",
        "}\n",
        "\n",
        "metrics_test = {\n",
        "    'F1': f1_score(y_test, y_pred_test),\n",
        "    'Accuracy': accuracy_score(y_test, y_pred_test),\n",
        "    'Precision': precision_score(y_test, y_pred_test),\n",
        "    'Recall': recall_score(y_test, y_pred_test)\n",
        "}\n",
        "\n",
        "print(\"Training performance:\", metrics_train)\n",
        "print(\"Testing performance:\", metrics_test)\n",
        "\n",
        "# Compute probabilities and precision-recall curve\n",
        "y_scores = model.predict_proba(X_test)[:, 1]\n",
        "precision, recall, thresholds = precision_recall_curve(y_test, y_scores)\n",
        "\n",
        "# Compute AUC for the precision-recall curve\n",
        "auc_pr = auc(recall, precision)\n",
        "print('Area under the Precision-Recall curve:', auc_pr)\n",
        "\n",
        "\n",
        "cm = confusion_matrix(y_test, y_pred_test)\n",
        "\n",
        "# Plot confusion matrix\n",
        "plt.figure(figsize=(6, 4))\n",
        "sns.heatmap(cm, annot=True, fmt='d', cmap='Blues', cbar=False,\n",
        "            xticklabels=['Predicted Negative', 'Predicted Positive'],\n",
        "            yticklabels=['Actual Negative', 'Actual Positive'])\n",
        "plt.xlabel('Predicted Label')\n",
        "plt.ylabel('True Label')\n",
        "plt.title('Confusion Matrix')\n",
        "plt.show()"
      ],
      "metadata": {
        "execution": {
          "iopub.status.busy": "2024-07-13T15:06:33.049297Z",
          "iopub.execute_input": "2024-07-13T15:06:33.049747Z",
          "iopub.status.idle": "2024-07-13T15:07:23.405666Z",
          "shell.execute_reply.started": "2024-07-13T15:06:33.049703Z",
          "shell.execute_reply": "2024-07-13T15:07:23.403888Z"
        },
        "trusted": true,
        "id": "1BjB5IHMzLOK"
      },
      "execution_count": null,
      "outputs": []
    },
    {
      "cell_type": "markdown",
      "source": [
        "**Feature Importance**"
      ],
      "metadata": {
        "id": "4xzEUuhezLOL"
      }
    },
    {
      "cell_type": "code",
      "source": [
        "feature_importances = model.feature_importances_ * 100 / sum(model.feature_importances_)\n",
        "\n",
        "feature_names = X_train.columns.tolist()\n",
        "\n",
        "feature_imp = pd.DataFrame({\n",
        "    'Feature': feature_names,\n",
        "    'Importance': feature_importances\n",
        "})\n",
        "\n",
        "feature_imp = feature_imp.sort_values(by='Importance', ascending=False)\n",
        "feature_imp['Importance_cum_sum']=feature_imp['Importance'].cumsum()"
      ],
      "metadata": {
        "execution": {
          "iopub.status.busy": "2024-07-13T15:07:23.408429Z",
          "iopub.execute_input": "2024-07-13T15:07:23.409664Z",
          "iopub.status.idle": "2024-07-13T15:07:23.426472Z",
          "shell.execute_reply.started": "2024-07-13T15:07:23.409598Z",
          "shell.execute_reply": "2024-07-13T15:07:23.423551Z"
        },
        "trusted": true,
        "id": "X1WdKWe8zLOM"
      },
      "execution_count": null,
      "outputs": []
    },
    {
      "cell_type": "code",
      "source": [
        "feature_imp.head(20)"
      ],
      "metadata": {
        "execution": {
          "iopub.status.busy": "2024-07-13T15:07:23.429397Z",
          "iopub.execute_input": "2024-07-13T15:07:23.430099Z",
          "iopub.status.idle": "2024-07-13T15:07:23.446096Z",
          "shell.execute_reply.started": "2024-07-13T15:07:23.430028Z",
          "shell.execute_reply": "2024-07-13T15:07:23.444949Z"
        },
        "trusted": true,
        "id": "xYFIxM4ZzLOM"
      },
      "execution_count": null,
      "outputs": []
    },
    {
      "cell_type": "markdown",
      "source": [
        "**Shap Plot**"
      ],
      "metadata": {
        "id": "9kY0j33MzLON"
      }
    },
    {
      "cell_type": "code",
      "source": [
        "explainer = shap.Explainer(model)\n",
        "shap_values = explainer(X_test)\n",
        "\n",
        "shap.summary_plot(shap_values, X_test)"
      ],
      "metadata": {
        "execution": {
          "iopub.status.busy": "2024-07-13T15:07:23.447708Z",
          "iopub.execute_input": "2024-07-13T15:07:23.448179Z",
          "iopub.status.idle": "2024-07-13T15:08:34.025463Z",
          "shell.execute_reply.started": "2024-07-13T15:07:23.448112Z",
          "shell.execute_reply": "2024-07-13T15:08:34.024146Z"
        },
        "trusted": true,
        "id": "k_JS-XgqzLON"
      },
      "execution_count": null,
      "outputs": []
    },
    {
      "cell_type": "markdown",
      "source": [
        "**Precision and Recall as a function of the decision threshold**"
      ],
      "metadata": {
        "id": "vIlimTmLzLON"
      }
    },
    {
      "cell_type": "code",
      "source": [
        "thresholds = np.append(thresholds, max(y_scores))\n",
        "\n",
        "plt.figure(figsize=(10, 6))\n",
        "plt.plot(thresholds, precision, label='Precision')\n",
        "plt.plot(thresholds, recall, label='Recall')\n",
        "plt.xlabel('Threshold')\n",
        "plt.ylabel('Precision/Recall')\n",
        "plt.title('Precision and Recall as a function of the decision threshold')\n",
        "plt.legend()\n",
        "plt.grid(True)\n",
        "plt.show()"
      ],
      "metadata": {
        "execution": {
          "iopub.status.busy": "2024-07-13T15:08:34.027342Z",
          "iopub.execute_input": "2024-07-13T15:08:34.028062Z",
          "iopub.status.idle": "2024-07-13T15:08:34.984438Z",
          "shell.execute_reply.started": "2024-07-13T15:08:34.028011Z",
          "shell.execute_reply": "2024-07-13T15:08:34.983169Z"
        },
        "trusted": true,
        "id": "g8BbfsC3zLOO"
      },
      "execution_count": null,
      "outputs": []
    },
    {
      "cell_type": "markdown",
      "source": [
        "# K-Fold Validation <a id=\"k-fold-validation\"></a>\n",
        "[Back to Table of Contents](#back-to-table-of-contents)"
      ],
      "metadata": {
        "id": "Naa1FzVczLOO"
      }
    },
    {
      "cell_type": "markdown",
      "source": [
        "**Here we are trying to validate our model performance by using K-Fold Validation**"
      ],
      "metadata": {
        "id": "Ro2Z4D51zLOO"
      }
    },
    {
      "cell_type": "markdown",
      "source": [
        "**K-fold cross-validation is like testing how well you've learned from your study notes. You divide your notes into k equal parts, then you study with all but one part, and test yourself with the part you left out. You do this k times, rotating which part you leave out each time. Finally, you average your scores to see how well you understood overall.**"
      ],
      "metadata": {
        "id": "lGv5A6kRzLOO"
      }
    },
    {
      "cell_type": "code",
      "source": [
        "X1=X[important_features]"
      ],
      "metadata": {
        "execution": {
          "iopub.status.busy": "2024-07-13T15:08:34.98616Z",
          "iopub.execute_input": "2024-07-13T15:08:34.986638Z",
          "iopub.status.idle": "2024-07-13T15:08:35.006029Z",
          "shell.execute_reply.started": "2024-07-13T15:08:34.986597Z",
          "shell.execute_reply": "2024-07-13T15:08:35.00493Z"
        },
        "trusted": true,
        "id": "yxnXnHzIzLOP"
      },
      "execution_count": null,
      "outputs": []
    },
    {
      "cell_type": "code",
      "source": [
        "X1.shape"
      ],
      "metadata": {
        "execution": {
          "iopub.status.busy": "2024-07-13T15:08:35.007274Z",
          "iopub.execute_input": "2024-07-13T15:08:35.00765Z",
          "iopub.status.idle": "2024-07-13T15:08:35.014709Z",
          "shell.execute_reply.started": "2024-07-13T15:08:35.007617Z",
          "shell.execute_reply": "2024-07-13T15:08:35.013456Z"
        },
        "trusted": true,
        "id": "FcXeDbu5zLOP"
      },
      "execution_count": null,
      "outputs": []
    },
    {
      "cell_type": "code",
      "source": [
        "\n",
        "\n",
        "kfold_df = pd.DataFrame()\n",
        "\n",
        "for i in range(10):\n",
        "    X_train, X_test, y_train, y_test = train_test_split(X1, y, test_size=0.25, random_state=i)\n",
        "    model1 = xgb.XGBClassifier(**best_params)\n",
        "    model1.fit(X_train, y_train)\n",
        "    y_pred_train = model1.predict(X_train)\n",
        "    y_pred_test = model1.predict(X_test)\n",
        "\n",
        "    metrics = pd.DataFrame({\n",
        "        \"Fold\": [i],\n",
        "        'F1_train': [f1_score(y_train, y_pred_train)],\n",
        "        'Accuracy_train': [accuracy_score(y_train, y_pred_train)],\n",
        "        'Precision_train': [precision_score(y_train, y_pred_train)],\n",
        "        'Recall_train': [recall_score(y_train, y_pred_train)],\n",
        "        'F1_test': [f1_score(y_test, y_pred_test)],\n",
        "        'Accuracy_test': [accuracy_score(y_test, y_pred_test)],\n",
        "        'Precision_test': [precision_score(y_test, y_pred_test)],\n",
        "        'Recall_test': [recall_score(y_test, y_pred_test)]\n",
        "    })\n",
        "\n",
        "\n",
        "    kfold_df = pd.concat([kfold_df, metrics])"
      ],
      "metadata": {
        "execution": {
          "iopub.status.busy": "2024-07-13T15:08:35.016392Z",
          "iopub.execute_input": "2024-07-13T15:08:35.016836Z",
          "iopub.status.idle": "2024-07-13T15:10:56.680737Z",
          "shell.execute_reply.started": "2024-07-13T15:08:35.016805Z",
          "shell.execute_reply": "2024-07-13T15:10:56.679467Z"
        },
        "trusted": true,
        "id": "VlD9njDczLOP"
      },
      "execution_count": null,
      "outputs": []
    },
    {
      "cell_type": "code",
      "source": [
        "kfold_df.head(10)"
      ],
      "metadata": {
        "execution": {
          "iopub.status.busy": "2024-07-13T15:10:56.682259Z",
          "iopub.execute_input": "2024-07-13T15:10:56.682656Z",
          "iopub.status.idle": "2024-07-13T15:10:56.703229Z",
          "shell.execute_reply.started": "2024-07-13T15:10:56.682623Z",
          "shell.execute_reply": "2024-07-13T15:10:56.701954Z"
        },
        "trusted": true,
        "id": "DcPRj0ukzLOQ"
      },
      "execution_count": null,
      "outputs": []
    },
    {
      "cell_type": "code",
      "source": [],
      "metadata": {
        "trusted": true,
        "id": "CIX87JRKzLOQ"
      },
      "execution_count": null,
      "outputs": []
    },
    {
      "cell_type": "code",
      "source": [
        "import seaborn as sns\n",
        "import matplotlib.pyplot as plt\n",
        "\n",
        "# Melt the DataFrame to have a single column for metric type\n",
        "melted_df = pd.melt(kfold_df, id_vars=['Fold'], var_name='Metric_Type', value_name='Value')\n",
        "\n",
        "# Plotting using Seaborn\n",
        "plt.figure(figsize=(12, 4))\n",
        "sns.barplot(x='Fold', y='Value', hue='Metric_Type', data=melted_df, palette='muted')\n",
        "plt.title('Metrics Across Folds')\n",
        "plt.xlabel('Fold')\n",
        "plt.ylabel('Value')\n",
        "plt.legend(title='Metric Type')\n",
        "plt.show()\n"
      ],
      "metadata": {
        "execution": {
          "iopub.status.busy": "2024-07-13T15:10:56.704696Z",
          "iopub.execute_input": "2024-07-13T15:10:56.705102Z",
          "iopub.status.idle": "2024-07-13T15:10:57.704968Z",
          "shell.execute_reply.started": "2024-07-13T15:10:56.705057Z",
          "shell.execute_reply": "2024-07-13T15:10:57.703576Z"
        },
        "trusted": true,
        "id": "qHK-ddE_zLOQ"
      },
      "execution_count": null,
      "outputs": []
    },
    {
      "cell_type": "markdown",
      "source": [
        "# Final Model Prediction <a id=\"final-model-prediction\"></a>\n",
        "[Back to Table of Contents](#back-to-table-of-contents)"
      ],
      "metadata": {
        "id": "o-_CbqsEzLOQ"
      }
    },
    {
      "cell_type": "code",
      "source": [
        "predict_df.head()"
      ],
      "metadata": {
        "execution": {
          "iopub.status.busy": "2024-07-13T15:10:57.706558Z",
          "iopub.execute_input": "2024-07-13T15:10:57.706999Z",
          "iopub.status.idle": "2024-07-13T15:10:57.739444Z",
          "shell.execute_reply.started": "2024-07-13T15:10:57.706959Z",
          "shell.execute_reply": "2024-07-13T15:10:57.738085Z"
        },
        "trusted": true,
        "id": "nzd33xfFzLOR"
      },
      "execution_count": null,
      "outputs": []
    },
    {
      "cell_type": "code",
      "source": [
        "np.sum(model.predict(predict_df[important_features]))"
      ],
      "metadata": {
        "execution": {
          "iopub.status.busy": "2024-07-13T15:10:57.740908Z",
          "iopub.execute_input": "2024-07-13T15:10:57.74126Z",
          "iopub.status.idle": "2024-07-13T15:10:59.478192Z",
          "shell.execute_reply.started": "2024-07-13T15:10:57.74123Z",
          "shell.execute_reply": "2024-07-13T15:10:59.476598Z"
        },
        "trusted": true,
        "id": "qTfHXkpTzLOR"
      },
      "execution_count": null,
      "outputs": []
    },
    {
      "cell_type": "code",
      "source": [
        "\n",
        "predict_df['isHacker'] = model.predict_proba(predict_df[important_features])[:, 1]\n",
        "predict_df.columns"
      ],
      "metadata": {
        "execution": {
          "iopub.status.busy": "2024-07-13T15:10:59.479749Z",
          "iopub.execute_input": "2024-07-13T15:10:59.480209Z",
          "iopub.status.idle": "2024-07-13T15:11:01.224372Z",
          "shell.execute_reply.started": "2024-07-13T15:10:59.480168Z",
          "shell.execute_reply": "2024-07-13T15:11:01.223173Z"
        },
        "trusted": true,
        "id": "AA1s_84bzLOR"
      },
      "execution_count": null,
      "outputs": []
    },
    {
      "cell_type": "code",
      "source": [
        "predict_df['isHacker']"
      ],
      "metadata": {
        "execution": {
          "iopub.status.busy": "2024-07-13T15:11:01.225991Z",
          "iopub.execute_input": "2024-07-13T15:11:01.226451Z",
          "iopub.status.idle": "2024-07-13T15:11:01.237251Z",
          "shell.execute_reply.started": "2024-07-13T15:11:01.226409Z",
          "shell.execute_reply": "2024-07-13T15:11:01.235844Z"
        },
        "trusted": true,
        "id": "P-Kkoh7bzLOS"
      },
      "execution_count": null,
      "outputs": []
    },
    {
      "cell_type": "code",
      "source": [
        "list(Sample_Submission.columns)"
      ],
      "metadata": {
        "execution": {
          "iopub.status.busy": "2024-07-13T15:11:01.238927Z",
          "iopub.execute_input": "2024-07-13T15:11:01.239583Z",
          "iopub.status.idle": "2024-07-13T15:11:01.25167Z",
          "shell.execute_reply.started": "2024-07-13T15:11:01.239543Z",
          "shell.execute_reply": "2024-07-13T15:11:01.250105Z"
        },
        "trusted": true,
        "id": "HDZ53rt4zLOT"
      },
      "execution_count": null,
      "outputs": []
    },
    {
      "cell_type": "code",
      "source": [
        "Sample_Submission_1=predict_df[['All_IDs','isHacker']]"
      ],
      "metadata": {
        "execution": {
          "iopub.status.busy": "2024-07-13T15:11:01.253509Z",
          "iopub.execute_input": "2024-07-13T15:11:01.253985Z",
          "iopub.status.idle": "2024-07-13T15:11:01.269446Z",
          "shell.execute_reply.started": "2024-07-13T15:11:01.253943Z",
          "shell.execute_reply": "2024-07-13T15:11:01.267932Z"
        },
        "trusted": true,
        "id": "3YCV_s-fzLOT"
      },
      "execution_count": null,
      "outputs": []
    },
    {
      "cell_type": "code",
      "source": [
        "Sample_Submission_1.rename(columns={'All_IDs': 'TID'}, inplace=True)\n"
      ],
      "metadata": {
        "execution": {
          "iopub.status.busy": "2024-07-13T15:11:01.271629Z",
          "iopub.execute_input": "2024-07-13T15:11:01.272032Z",
          "iopub.status.idle": "2024-07-13T15:11:01.284477Z",
          "shell.execute_reply.started": "2024-07-13T15:11:01.271999Z",
          "shell.execute_reply": "2024-07-13T15:11:01.282733Z"
        },
        "trusted": true,
        "id": "dYRuF2DNzLOT"
      },
      "execution_count": null,
      "outputs": []
    },
    {
      "cell_type": "code",
      "source": [
        "Sample_Submission_1.to_csv(\"result.csv\", index=False)\n"
      ],
      "metadata": {
        "execution": {
          "iopub.status.busy": "2024-07-13T15:11:01.286445Z",
          "iopub.execute_input": "2024-07-13T15:11:01.286947Z",
          "iopub.status.idle": "2024-07-13T15:11:02.479648Z",
          "shell.execute_reply.started": "2024-07-13T15:11:01.286913Z",
          "shell.execute_reply": "2024-07-13T15:11:02.478244Z"
        },
        "trusted": true,
        "id": "WbwYovzSzLOU"
      },
      "execution_count": null,
      "outputs": []
    },
    {
      "cell_type": "markdown",
      "source": [
        "# Post Modelling and Prediction Analysis"
      ],
      "metadata": {
        "id": "p__2dLnSzLOU"
      }
    },
    {
      "cell_type": "markdown",
      "source": [
        "# Check the number of total predicted on the unseen data and this number should be in the similar ratio of processed data"
      ],
      "metadata": {
        "id": "4MgaKnQ-zLOU"
      }
    },
    {
      "cell_type": "code",
      "source": [
        "Sample_Submission_1[Sample_Submission_1['isHacker']>=.5]['isHacker'].size"
      ],
      "metadata": {
        "execution": {
          "iopub.status.busy": "2024-07-13T15:11:02.481013Z",
          "iopub.execute_input": "2024-07-13T15:11:02.481389Z",
          "iopub.status.idle": "2024-07-13T15:11:02.491159Z",
          "shell.execute_reply.started": "2024-07-13T15:11:02.481356Z",
          "shell.execute_reply": "2024-07-13T15:11:02.489863Z"
        },
        "trusted": true,
        "id": "KskEwPqbzLOV"
      },
      "execution_count": null,
      "outputs": []
    },
    {
      "cell_type": "markdown",
      "source": [
        "# Hurrey!! we have completed the HACKTHON"
      ],
      "metadata": {
        "id": "PunHQy5yzLOV"
      }
    },
    {
      "cell_type": "code",
      "source": [],
      "metadata": {
        "id": "hDCA04tszLOV"
      },
      "execution_count": null,
      "outputs": []
    }
  ]
}